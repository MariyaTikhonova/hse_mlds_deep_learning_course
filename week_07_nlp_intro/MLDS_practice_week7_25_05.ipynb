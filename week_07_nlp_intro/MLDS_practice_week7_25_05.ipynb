{
  "cells": [
    {
      "cell_type": "markdown",
      "metadata": {
        "id": "KLTwYLGpQOYj"
      },
      "source": [
        "##  Векторные представления слов и документов\n",
        "\n",
        "\n",
        "1. word2vec – векторное представление слова\n",
        "2. как сделать вектор документа?\n",
        "    * усреднить все вектора слов\n",
        "    * усреднить все вектора слов с $tf-idf$ весами\n",
        "    * doc2vec\n",
        "3. fasttext – векторное представление $n$-грам\n",
        "\n"
      ]
    },
    {
      "cell_type": "markdown",
      "metadata": {
        "id": "MmIagkFlQOYn"
      },
      "source": [
        "## Векторные представления слов (word embeddings)"
      ]
    },
    {
      "cell_type": "markdown",
      "metadata": {
        "id": "utQkqI7CQOYn"
      },
      "source": [
        "Задача: получить представление слов $w_1,...,w_V \\in W$ в виде векторов линейного пространства $\\mathbb{R}^N$.\n"
      ]
    },
    {
      "cell_type": "markdown",
      "metadata": {
        "id": "h4KDGs7lQOYo"
      },
      "source": [
        "## word2Vec $-$ общая идея"
      ]
    },
    {
      "cell_type": "markdown",
      "metadata": {
        "id": "GlZlVmPQQOYo"
      },
      "source": [
        "Основная идея модели ****word2vec**** $-$  будем предсказывать вероятность слова по его окружению (контексту)."
      ]
    },
    {
      "cell_type": "markdown",
      "metadata": {
        "id": "NaDP45kMQOYo"
      },
      "source": [
        "\n",
        "По слову $w$ предсказываем слово $w'$\n",
        "\n",
        "\n",
        "$X$ – one-hot представление входного слова $w$\n",
        "\n",
        "$y_i =  p(w' = w_i)$\n",
        "\n",
        "$W = |V \\times N | $ – матрица весов между входным и скрытым слоем\n",
        "\n",
        "$h =x^T W$ – скрытый слой – выбирает одну строку из матрицы $W_{}$\n",
        "\n",
        "$W' = |N \\times V| $ – матрица весов между скрытым слоем и выходным   \n",
        "\n",
        "$u_j = W' h$  – выходной слой\n",
        "\n",
        "$p(w_j) = y_j = \\frac{exp(u_j)}{\\sum_i exp(u_i)} $ – искомая вероятность"
      ]
    },
    {
      "cell_type": "markdown",
      "metadata": {
        "id": "vlxYw5d4QOYp"
      },
      "source": [
        "## Модель CBOW (Continious bag of word)\n",
        "\n",
        "\n",
        "Идея: будем предсказывать слово по его контексту."
      ]
    },
    {
      "cell_type": "markdown",
      "metadata": {
        "id": "32cugNN2QOYq"
      },
      "source": [
        "Где:\n",
        "$X_i$ – one-hot представление входного слова $w_i$\n",
        " \n",
        "$W = |V \\times N | $ – матрица весов между входным и скрытым слоем\n",
        "\n",
        "$h =x^T W$ – скрытый слой – выбирает одну строку из матрицы $W_{}$\n",
        "\n",
        "$W' = |N \\times V| $ – матрица весов между скрытым слоем и выходным   \n",
        "\n",
        "$y_i =  p(w' = w_i)$ $-$ искомая вероятность встретить слово $w_i$ в контексте $x_{C_1}...x_{C_k}$ \n",
        "\n"
      ]
    },
    {
      "cell_type": "markdown",
      "metadata": {
        "id": "OEjLbcmjQOYq"
      },
      "source": [
        "## Модель Skip-gram"
      ]
    },
    {
      "cell_type": "markdown",
      "metadata": {
        "id": "RbWjqAhhQOYr"
      },
      "source": [
        "Идея: по слову $w_i$ будем предсказывать контекст слова. "
      ]
    },
    {
      "cell_type": "markdown",
      "metadata": {
        "id": "4dBIvZhmQOYr"
      },
      "source": [
        "На вход модели подается слово и слова, попавшие с ним в один контекст. \n",
        "![img](img/skip_gram_window.png)"
      ]
    },
    {
      "cell_type": "markdown",
      "metadata": {
        "id": "YlYvKLVgQOYs"
      },
      "source": [
        "Где:\n",
        "$X_k$ – one-hot представление входного слова $w$\n",
        " \n",
        "$W = |V \\times N | $ – матрица весов между входным и скрытым слоем\n",
        "\n",
        "$h =x^T W$ – скрытый слой – выбирает одну строку из матрицы $W_{}$\n",
        "\n",
        "$W' = |N \\times V| $ – матрица весов между скрытым слоем и выходным   \n",
        "\n",
        "$y_i =  p(w' = w_i)$ $-$ искомая вероятность встретить слово $w_i$ в одном контексте со словом $X_k$ "
      ]
    },
    {
      "cell_type": "markdown",
      "metadata": {
        "id": "g5eGQZDUQOYs"
      },
      "source": [
        "Векторные представления слов $-$ строки матрицы весов нейронной сети."
      ]
    },
    {
      "cell_type": "code",
      "execution_count": 6,
      "metadata": {
        "id": "EZGM_F0GQOYs"
      },
      "outputs": [],
      "source": [
        "import pandas as pd\n",
        "import matplotlib.pyplot as plt\n",
        "import seaborn as sns\n",
        "import random\n",
        "import numpy as np\n",
        "from sklearn.metrics import *\n",
        "from sklearn.feature_extraction.text import *\n",
        "from sklearn.model_selection import train_test_split\n",
        "from collections import Counter, defaultdict\n",
        "import warnings\n",
        "warnings.filterwarnings('ignore')\n",
        "random.seed(1228)\n",
        "\n",
        "%matplotlib inline"
      ]
    },
    {
      "cell_type": "markdown",
      "metadata": {
        "collapsed": true,
        "id": "LdfqGeKjQOYu"
      },
      "source": [
        "Скачиваем куски датасета твитов ([источник](http://study.mokoron.com/)): [положительные](https://www.dropbox.com/s/fnpq3z4bcnoktiv/positive.csv?dl=0), [отрицательные](https://www.dropbox.com/s/ilkte35m35l38mr/negative.sql)."
      ]
    },
    {
      "cell_type": "markdown",
      "metadata": {
        "id": "Vw7o9iRiQOYu"
      },
      "source": [
        "Загружаем лемматизированные статьи без стоп-слов и создаем массив текстов"
      ]
    },
    {
      "cell_type": "code",
      "execution_count": 7,
      "metadata": {
        "id": "OxHzGwVSQOYu"
      },
      "outputs": [],
      "source": [
        "from pymystem3 import Mystem\n",
        "import re\n",
        "\n",
        "\n",
        "m = Mystem()\n",
        "\n",
        "\n",
        "regex = re.compile(\"[А-Яа-яA-Za-z-]+\")\n",
        "\n",
        "def words_only(text, regex=regex):\n",
        "    try:\n",
        "        return \" \".join(regex.findall(text))\n",
        "    except:\n",
        "        return \"\"\n",
        "\n",
        "\n",
        "\n",
        "def lemmatize(text, mystem=m):\n",
        "    try:\n",
        "        return \"\".join(m.lemmatize(text)).strip()  \n",
        "    except:\n",
        "        return \" \"\n"
      ]
    },
    {
      "cell_type": "code",
      "execution_count": 11,
      "metadata": {
        "colab": {
          "base_uri": "https://localhost:8080/",
          "height": 35
        },
        "id": "4WgwUfAJQOYv",
        "outputId": "b36fc139-f70b-44d2-ae0d-101d171a9b6d"
      },
      "outputs": [
        {
          "output_type": "execute_result",
          "data": {
            "text/plain": [
              "'g iuhoikl kjh h одлжд'"
            ],
            "application/vnd.google.colaboratory.intrinsic+json": {
              "type": "string"
            }
          },
          "metadata": {},
          "execution_count": 11
        }
      ],
      "source": [
        "import re\n",
        "\n",
        "\n",
        "\n",
        "\n",
        "regex = re.compile(\"[А-Яа-яA-Za-z-@:\\(\\)\\|]+\")\n",
        "\n",
        "def words_only(text, regex=regex):\n",
        "    try:\n",
        "        return \" \".join(regex.findall(text))\n",
        "    except:\n",
        "        return \"\"\n",
        "\n",
        "words_only('g;iuhoikl 7.kjh 87h одлжд ')"
      ]
    },
    {
      "cell_type": "code",
      "source": [
        "df_neg = pd.read_csv(\"negative.csv\", sep=';', header = None, usecols = [3])\n",
        "df_pos = pd.read_csv(\"positive.csv\", sep=';', header = None, usecols = [3])\n",
        "df_neg['sent'] = 'neg'\n",
        "df_pos['sent'] = 'pos'\n",
        "df_pos['text'] = df_pos[3]\n",
        "df_neg['text'] = df_neg[3]\n",
        "df = pd.concat([df_neg, df_pos])\n",
        "df = df[['text', 'sent']]\n",
        "%time df.text = df.text.apply(words_only)\n",
        "%time df.text = df.text.apply(lemmatize)"
      ],
      "metadata": {
        "id": "O-keYPE2cXcc"
      },
      "execution_count": null,
      "outputs": []
    },
    {
      "cell_type": "code",
      "execution_count": 12,
      "metadata": {
        "colab": {
          "base_uri": "https://localhost:8080/",
          "height": 206
        },
        "id": "jC8omZ6SQOYw",
        "outputId": "f7ded8a9-6d79-49cf-b18c-381d356920e3"
      },
      "outputs": [
        {
          "output_type": "execute_result",
          "data": {
            "text/plain": [
              "                                                        3\n",
              "114906  Спала в родительском доме, на своей кровати......\n",
              "114907  RT @jebesilofyt: Эх... Мы немного решили сокра...\n",
              "114908  Что происходит со мной, когда в эфире #proacti...\n",
              "114909  \"Любимая,я подарю тебе эту звезду...\" Имя како...\n",
              "114910  @Ma_che_rie посмотри #непытайтесьпокинутьомск ..."
            ],
            "text/html": [
              "\n",
              "  <div id=\"df-e8a5af50-07e8-4000-9687-dc964f91ef4d\">\n",
              "    <div class=\"colab-df-container\">\n",
              "      <div>\n",
              "<style scoped>\n",
              "    .dataframe tbody tr th:only-of-type {\n",
              "        vertical-align: middle;\n",
              "    }\n",
              "\n",
              "    .dataframe tbody tr th {\n",
              "        vertical-align: top;\n",
              "    }\n",
              "\n",
              "    .dataframe thead th {\n",
              "        text-align: right;\n",
              "    }\n",
              "</style>\n",
              "<table border=\"1\" class=\"dataframe\">\n",
              "  <thead>\n",
              "    <tr style=\"text-align: right;\">\n",
              "      <th></th>\n",
              "      <th>3</th>\n",
              "    </tr>\n",
              "  </thead>\n",
              "  <tbody>\n",
              "    <tr>\n",
              "      <th>114906</th>\n",
              "      <td>Спала в родительском доме, на своей кровати......</td>\n",
              "    </tr>\n",
              "    <tr>\n",
              "      <th>114907</th>\n",
              "      <td>RT @jebesilofyt: Эх... Мы немного решили сокра...</td>\n",
              "    </tr>\n",
              "    <tr>\n",
              "      <th>114908</th>\n",
              "      <td>Что происходит со мной, когда в эфире #proacti...</td>\n",
              "    </tr>\n",
              "    <tr>\n",
              "      <th>114909</th>\n",
              "      <td>\"Любимая,я подарю тебе эту звезду...\" Имя како...</td>\n",
              "    </tr>\n",
              "    <tr>\n",
              "      <th>114910</th>\n",
              "      <td>@Ma_che_rie посмотри #непытайтесьпокинутьомск ...</td>\n",
              "    </tr>\n",
              "  </tbody>\n",
              "</table>\n",
              "</div>\n",
              "      <button class=\"colab-df-convert\" onclick=\"convertToInteractive('df-e8a5af50-07e8-4000-9687-dc964f91ef4d')\"\n",
              "              title=\"Convert this dataframe to an interactive table.\"\n",
              "              style=\"display:none;\">\n",
              "        \n",
              "  <svg xmlns=\"http://www.w3.org/2000/svg\" height=\"24px\"viewBox=\"0 0 24 24\"\n",
              "       width=\"24px\">\n",
              "    <path d=\"M0 0h24v24H0V0z\" fill=\"none\"/>\n",
              "    <path d=\"M18.56 5.44l.94 2.06.94-2.06 2.06-.94-2.06-.94-.94-2.06-.94 2.06-2.06.94zm-11 1L8.5 8.5l.94-2.06 2.06-.94-2.06-.94L8.5 2.5l-.94 2.06-2.06.94zm10 10l.94 2.06.94-2.06 2.06-.94-2.06-.94-.94-2.06-.94 2.06-2.06.94z\"/><path d=\"M17.41 7.96l-1.37-1.37c-.4-.4-.92-.59-1.43-.59-.52 0-1.04.2-1.43.59L10.3 9.45l-7.72 7.72c-.78.78-.78 2.05 0 2.83L4 21.41c.39.39.9.59 1.41.59.51 0 1.02-.2 1.41-.59l7.78-7.78 2.81-2.81c.8-.78.8-2.07 0-2.86zM5.41 20L4 18.59l7.72-7.72 1.47 1.35L5.41 20z\"/>\n",
              "  </svg>\n",
              "      </button>\n",
              "      \n",
              "  <style>\n",
              "    .colab-df-container {\n",
              "      display:flex;\n",
              "      flex-wrap:wrap;\n",
              "      gap: 12px;\n",
              "    }\n",
              "\n",
              "    .colab-df-convert {\n",
              "      background-color: #E8F0FE;\n",
              "      border: none;\n",
              "      border-radius: 50%;\n",
              "      cursor: pointer;\n",
              "      display: none;\n",
              "      fill: #1967D2;\n",
              "      height: 32px;\n",
              "      padding: 0 0 0 0;\n",
              "      width: 32px;\n",
              "    }\n",
              "\n",
              "    .colab-df-convert:hover {\n",
              "      background-color: #E2EBFA;\n",
              "      box-shadow: 0px 1px 2px rgba(60, 64, 67, 0.3), 0px 1px 3px 1px rgba(60, 64, 67, 0.15);\n",
              "      fill: #174EA6;\n",
              "    }\n",
              "\n",
              "    [theme=dark] .colab-df-convert {\n",
              "      background-color: #3B4455;\n",
              "      fill: #D2E3FC;\n",
              "    }\n",
              "\n",
              "    [theme=dark] .colab-df-convert:hover {\n",
              "      background-color: #434B5C;\n",
              "      box-shadow: 0px 1px 3px 1px rgba(0, 0, 0, 0.15);\n",
              "      filter: drop-shadow(0px 1px 2px rgba(0, 0, 0, 0.3));\n",
              "      fill: #FFFFFF;\n",
              "    }\n",
              "  </style>\n",
              "\n",
              "      <script>\n",
              "        const buttonEl =\n",
              "          document.querySelector('#df-e8a5af50-07e8-4000-9687-dc964f91ef4d button.colab-df-convert');\n",
              "        buttonEl.style.display =\n",
              "          google.colab.kernel.accessAllowed ? 'block' : 'none';\n",
              "\n",
              "        async function convertToInteractive(key) {\n",
              "          const element = document.querySelector('#df-e8a5af50-07e8-4000-9687-dc964f91ef4d');\n",
              "          const dataTable =\n",
              "            await google.colab.kernel.invokeFunction('convertToInteractive',\n",
              "                                                     [key], {});\n",
              "          if (!dataTable) return;\n",
              "\n",
              "          const docLinkHtml = 'Like what you see? Visit the ' +\n",
              "            '<a target=\"_blank\" href=https://colab.research.google.com/notebooks/data_table.ipynb>data table notebook</a>'\n",
              "            + ' to learn more about interactive tables.';\n",
              "          element.innerHTML = '';\n",
              "          dataTable['output_type'] = 'display_data';\n",
              "          await google.colab.output.renderOutput(dataTable, element);\n",
              "          const docLink = document.createElement('div');\n",
              "          docLink.innerHTML = docLinkHtml;\n",
              "          element.appendChild(docLink);\n",
              "        }\n",
              "      </script>\n",
              "    </div>\n",
              "  </div>\n",
              "  "
            ]
          },
          "metadata": {},
          "execution_count": 12
        }
      ],
      "source": [
        "df_pos = pd.read_csv(\"positive.csv\", sep=';', header = None, usecols = [3])\n",
        "df_pos.tail()"
      ]
    },
    {
      "cell_type": "code",
      "source": [
        "df_pos = pd.read_csv(\"negative.csv\", sep=';', header = None, usecols = [3])\n",
        "df_pos.head()"
      ],
      "metadata": {
        "colab": {
          "base_uri": "https://localhost:8080/",
          "height": 206
        },
        "id": "_gSpeVlOfYbv",
        "outputId": "4f4094b6-d089-47cf-c387-b873834e7b72"
      },
      "execution_count": 13,
      "outputs": [
        {
          "output_type": "execute_result",
          "data": {
            "text/plain": [
              "                                                   3\n",
              "0  на работе был полный пиддес :| и так каждое за...\n",
              "1  Коллеги сидят рубятся в Urban terror, а я из-з...\n",
              "2  @elina_4post как говорят обещаного три года жд...\n",
              "3  Желаю хорошего полёта и удачной посадки,я буду...\n",
              "4  Обновил за каким-то лешим surf, теперь не рабо..."
            ],
            "text/html": [
              "\n",
              "  <div id=\"df-8e3a94fa-630f-43ca-aac1-651ee0f40606\">\n",
              "    <div class=\"colab-df-container\">\n",
              "      <div>\n",
              "<style scoped>\n",
              "    .dataframe tbody tr th:only-of-type {\n",
              "        vertical-align: middle;\n",
              "    }\n",
              "\n",
              "    .dataframe tbody tr th {\n",
              "        vertical-align: top;\n",
              "    }\n",
              "\n",
              "    .dataframe thead th {\n",
              "        text-align: right;\n",
              "    }\n",
              "</style>\n",
              "<table border=\"1\" class=\"dataframe\">\n",
              "  <thead>\n",
              "    <tr style=\"text-align: right;\">\n",
              "      <th></th>\n",
              "      <th>3</th>\n",
              "    </tr>\n",
              "  </thead>\n",
              "  <tbody>\n",
              "    <tr>\n",
              "      <th>0</th>\n",
              "      <td>на работе был полный пиддес :| и так каждое за...</td>\n",
              "    </tr>\n",
              "    <tr>\n",
              "      <th>1</th>\n",
              "      <td>Коллеги сидят рубятся в Urban terror, а я из-з...</td>\n",
              "    </tr>\n",
              "    <tr>\n",
              "      <th>2</th>\n",
              "      <td>@elina_4post как говорят обещаного три года жд...</td>\n",
              "    </tr>\n",
              "    <tr>\n",
              "      <th>3</th>\n",
              "      <td>Желаю хорошего полёта и удачной посадки,я буду...</td>\n",
              "    </tr>\n",
              "    <tr>\n",
              "      <th>4</th>\n",
              "      <td>Обновил за каким-то лешим surf, теперь не рабо...</td>\n",
              "    </tr>\n",
              "  </tbody>\n",
              "</table>\n",
              "</div>\n",
              "      <button class=\"colab-df-convert\" onclick=\"convertToInteractive('df-8e3a94fa-630f-43ca-aac1-651ee0f40606')\"\n",
              "              title=\"Convert this dataframe to an interactive table.\"\n",
              "              style=\"display:none;\">\n",
              "        \n",
              "  <svg xmlns=\"http://www.w3.org/2000/svg\" height=\"24px\"viewBox=\"0 0 24 24\"\n",
              "       width=\"24px\">\n",
              "    <path d=\"M0 0h24v24H0V0z\" fill=\"none\"/>\n",
              "    <path d=\"M18.56 5.44l.94 2.06.94-2.06 2.06-.94-2.06-.94-.94-2.06-.94 2.06-2.06.94zm-11 1L8.5 8.5l.94-2.06 2.06-.94-2.06-.94L8.5 2.5l-.94 2.06-2.06.94zm10 10l.94 2.06.94-2.06 2.06-.94-2.06-.94-.94-2.06-.94 2.06-2.06.94z\"/><path d=\"M17.41 7.96l-1.37-1.37c-.4-.4-.92-.59-1.43-.59-.52 0-1.04.2-1.43.59L10.3 9.45l-7.72 7.72c-.78.78-.78 2.05 0 2.83L4 21.41c.39.39.9.59 1.41.59.51 0 1.02-.2 1.41-.59l7.78-7.78 2.81-2.81c.8-.78.8-2.07 0-2.86zM5.41 20L4 18.59l7.72-7.72 1.47 1.35L5.41 20z\"/>\n",
              "  </svg>\n",
              "      </button>\n",
              "      \n",
              "  <style>\n",
              "    .colab-df-container {\n",
              "      display:flex;\n",
              "      flex-wrap:wrap;\n",
              "      gap: 12px;\n",
              "    }\n",
              "\n",
              "    .colab-df-convert {\n",
              "      background-color: #E8F0FE;\n",
              "      border: none;\n",
              "      border-radius: 50%;\n",
              "      cursor: pointer;\n",
              "      display: none;\n",
              "      fill: #1967D2;\n",
              "      height: 32px;\n",
              "      padding: 0 0 0 0;\n",
              "      width: 32px;\n",
              "    }\n",
              "\n",
              "    .colab-df-convert:hover {\n",
              "      background-color: #E2EBFA;\n",
              "      box-shadow: 0px 1px 2px rgba(60, 64, 67, 0.3), 0px 1px 3px 1px rgba(60, 64, 67, 0.15);\n",
              "      fill: #174EA6;\n",
              "    }\n",
              "\n",
              "    [theme=dark] .colab-df-convert {\n",
              "      background-color: #3B4455;\n",
              "      fill: #D2E3FC;\n",
              "    }\n",
              "\n",
              "    [theme=dark] .colab-df-convert:hover {\n",
              "      background-color: #434B5C;\n",
              "      box-shadow: 0px 1px 3px 1px rgba(0, 0, 0, 0.15);\n",
              "      filter: drop-shadow(0px 1px 2px rgba(0, 0, 0, 0.3));\n",
              "      fill: #FFFFFF;\n",
              "    }\n",
              "  </style>\n",
              "\n",
              "      <script>\n",
              "        const buttonEl =\n",
              "          document.querySelector('#df-8e3a94fa-630f-43ca-aac1-651ee0f40606 button.colab-df-convert');\n",
              "        buttonEl.style.display =\n",
              "          google.colab.kernel.accessAllowed ? 'block' : 'none';\n",
              "\n",
              "        async function convertToInteractive(key) {\n",
              "          const element = document.querySelector('#df-8e3a94fa-630f-43ca-aac1-651ee0f40606');\n",
              "          const dataTable =\n",
              "            await google.colab.kernel.invokeFunction('convertToInteractive',\n",
              "                                                     [key], {});\n",
              "          if (!dataTable) return;\n",
              "\n",
              "          const docLinkHtml = 'Like what you see? Visit the ' +\n",
              "            '<a target=\"_blank\" href=https://colab.research.google.com/notebooks/data_table.ipynb>data table notebook</a>'\n",
              "            + ' to learn more about interactive tables.';\n",
              "          element.innerHTML = '';\n",
              "          dataTable['output_type'] = 'display_data';\n",
              "          await google.colab.output.renderOutput(dataTable, element);\n",
              "          const docLink = document.createElement('div');\n",
              "          docLink.innerHTML = docLinkHtml;\n",
              "          element.appendChild(docLink);\n",
              "        }\n",
              "      </script>\n",
              "    </div>\n",
              "  </div>\n",
              "  "
            ]
          },
          "metadata": {},
          "execution_count": 13
        }
      ]
    },
    {
      "cell_type": "code",
      "execution_count": 14,
      "metadata": {
        "id": "BoOkwLauQOYw",
        "colab": {
          "base_uri": "https://localhost:8080/",
          "height": 206
        },
        "outputId": "4f36b409-990a-4804-e382-4b40ed6c8e01"
      },
      "outputs": [
        {
          "output_type": "execute_result",
          "data": {
            "text/plain": [
              "                                                text sent\n",
              "0  на работа быть полный пиддеса :| и так каждый ...  neg\n",
              "1  коллега сидеть рубиться в Urban terror а я из ...  neg\n",
              "2  elina_ post как говорить обещаной три год ждат...  neg\n",
              "3  желать хороший пол тот и удачный посадка я быт...  neg\n",
              "4  обновлять за какой то леший surf теперь не раб...  neg"
            ],
            "text/html": [
              "\n",
              "  <div id=\"df-b54fb7ce-cf1d-4a00-9010-3bc62fec9dfc\">\n",
              "    <div class=\"colab-df-container\">\n",
              "      <div>\n",
              "<style scoped>\n",
              "    .dataframe tbody tr th:only-of-type {\n",
              "        vertical-align: middle;\n",
              "    }\n",
              "\n",
              "    .dataframe tbody tr th {\n",
              "        vertical-align: top;\n",
              "    }\n",
              "\n",
              "    .dataframe thead th {\n",
              "        text-align: right;\n",
              "    }\n",
              "</style>\n",
              "<table border=\"1\" class=\"dataframe\">\n",
              "  <thead>\n",
              "    <tr style=\"text-align: right;\">\n",
              "      <th></th>\n",
              "      <th>text</th>\n",
              "      <th>sent</th>\n",
              "    </tr>\n",
              "  </thead>\n",
              "  <tbody>\n",
              "    <tr>\n",
              "      <th>0</th>\n",
              "      <td>на работа быть полный пиддеса :| и так каждый ...</td>\n",
              "      <td>neg</td>\n",
              "    </tr>\n",
              "    <tr>\n",
              "      <th>1</th>\n",
              "      <td>коллега сидеть рубиться в Urban terror а я из ...</td>\n",
              "      <td>neg</td>\n",
              "    </tr>\n",
              "    <tr>\n",
              "      <th>2</th>\n",
              "      <td>elina_ post как говорить обещаной три год ждат...</td>\n",
              "      <td>neg</td>\n",
              "    </tr>\n",
              "    <tr>\n",
              "      <th>3</th>\n",
              "      <td>желать хороший пол тот и удачный посадка я быт...</td>\n",
              "      <td>neg</td>\n",
              "    </tr>\n",
              "    <tr>\n",
              "      <th>4</th>\n",
              "      <td>обновлять за какой то леший surf теперь не раб...</td>\n",
              "      <td>neg</td>\n",
              "    </tr>\n",
              "  </tbody>\n",
              "</table>\n",
              "</div>\n",
              "      <button class=\"colab-df-convert\" onclick=\"convertToInteractive('df-b54fb7ce-cf1d-4a00-9010-3bc62fec9dfc')\"\n",
              "              title=\"Convert this dataframe to an interactive table.\"\n",
              "              style=\"display:none;\">\n",
              "        \n",
              "  <svg xmlns=\"http://www.w3.org/2000/svg\" height=\"24px\"viewBox=\"0 0 24 24\"\n",
              "       width=\"24px\">\n",
              "    <path d=\"M0 0h24v24H0V0z\" fill=\"none\"/>\n",
              "    <path d=\"M18.56 5.44l.94 2.06.94-2.06 2.06-.94-2.06-.94-.94-2.06-.94 2.06-2.06.94zm-11 1L8.5 8.5l.94-2.06 2.06-.94-2.06-.94L8.5 2.5l-.94 2.06-2.06.94zm10 10l.94 2.06.94-2.06 2.06-.94-2.06-.94-.94-2.06-.94 2.06-2.06.94z\"/><path d=\"M17.41 7.96l-1.37-1.37c-.4-.4-.92-.59-1.43-.59-.52 0-1.04.2-1.43.59L10.3 9.45l-7.72 7.72c-.78.78-.78 2.05 0 2.83L4 21.41c.39.39.9.59 1.41.59.51 0 1.02-.2 1.41-.59l7.78-7.78 2.81-2.81c.8-.78.8-2.07 0-2.86zM5.41 20L4 18.59l7.72-7.72 1.47 1.35L5.41 20z\"/>\n",
              "  </svg>\n",
              "      </button>\n",
              "      \n",
              "  <style>\n",
              "    .colab-df-container {\n",
              "      display:flex;\n",
              "      flex-wrap:wrap;\n",
              "      gap: 12px;\n",
              "    }\n",
              "\n",
              "    .colab-df-convert {\n",
              "      background-color: #E8F0FE;\n",
              "      border: none;\n",
              "      border-radius: 50%;\n",
              "      cursor: pointer;\n",
              "      display: none;\n",
              "      fill: #1967D2;\n",
              "      height: 32px;\n",
              "      padding: 0 0 0 0;\n",
              "      width: 32px;\n",
              "    }\n",
              "\n",
              "    .colab-df-convert:hover {\n",
              "      background-color: #E2EBFA;\n",
              "      box-shadow: 0px 1px 2px rgba(60, 64, 67, 0.3), 0px 1px 3px 1px rgba(60, 64, 67, 0.15);\n",
              "      fill: #174EA6;\n",
              "    }\n",
              "\n",
              "    [theme=dark] .colab-df-convert {\n",
              "      background-color: #3B4455;\n",
              "      fill: #D2E3FC;\n",
              "    }\n",
              "\n",
              "    [theme=dark] .colab-df-convert:hover {\n",
              "      background-color: #434B5C;\n",
              "      box-shadow: 0px 1px 3px 1px rgba(0, 0, 0, 0.15);\n",
              "      filter: drop-shadow(0px 1px 2px rgba(0, 0, 0, 0.3));\n",
              "      fill: #FFFFFF;\n",
              "    }\n",
              "  </style>\n",
              "\n",
              "      <script>\n",
              "        const buttonEl =\n",
              "          document.querySelector('#df-b54fb7ce-cf1d-4a00-9010-3bc62fec9dfc button.colab-df-convert');\n",
              "        buttonEl.style.display =\n",
              "          google.colab.kernel.accessAllowed ? 'block' : 'none';\n",
              "\n",
              "        async function convertToInteractive(key) {\n",
              "          const element = document.querySelector('#df-b54fb7ce-cf1d-4a00-9010-3bc62fec9dfc');\n",
              "          const dataTable =\n",
              "            await google.colab.kernel.invokeFunction('convertToInteractive',\n",
              "                                                     [key], {});\n",
              "          if (!dataTable) return;\n",
              "\n",
              "          const docLinkHtml = 'Like what you see? Visit the ' +\n",
              "            '<a target=\"_blank\" href=https://colab.research.google.com/notebooks/data_table.ipynb>data table notebook</a>'\n",
              "            + ' to learn more about interactive tables.';\n",
              "          element.innerHTML = '';\n",
              "          dataTable['output_type'] = 'display_data';\n",
              "          await google.colab.output.renderOutput(dataTable, element);\n",
              "          const docLink = document.createElement('div');\n",
              "          docLink.innerHTML = docLinkHtml;\n",
              "          element.appendChild(docLink);\n",
              "        }\n",
              "      </script>\n",
              "    </div>\n",
              "  </div>\n",
              "  "
            ]
          },
          "metadata": {},
          "execution_count": 14
        }
      ],
      "source": [
        "# Data load for Windows users\n",
        "df = pd.read_csv('processed_text.csv', index_col = 0)\n",
        "df.head()"
      ]
    },
    {
      "cell_type": "code",
      "execution_count": 15,
      "metadata": {
        "colab": {
          "base_uri": "https://localhost:8080/"
        },
        "id": "skvaIoAMQOYw",
        "outputId": "5f6bf70b-212f-4904-aaf8-6fa9052e97ee"
      },
      "outputs": [
        {
          "output_type": "stream",
          "name": "stdout",
          "text": [
            "(226834, 2)\n"
          ]
        }
      ],
      "source": [
        "print(df.shape)\n",
        "#df.head()"
      ]
    },
    {
      "cell_type": "code",
      "execution_count": 16,
      "metadata": {
        "colab": {
          "base_uri": "https://localhost:8080/",
          "height": 206
        },
        "id": "9zxK-R_pQOYx",
        "outputId": "7cf67e6c-dc0a-49c7-f6aa-3d4a6704a416"
      },
      "outputs": [
        {
          "output_type": "execute_result",
          "data": {
            "text/plain": [
              "                                                text sent\n",
              "0  на работа быть полный пиддеса :| и так каждый ...  neg\n",
              "1  коллега сидеть рубиться в Urban terror а я из ...  neg\n",
              "2  elina_ post как говорить обещаной три год ждат...  neg\n",
              "3  желать хороший пол тот и удачный посадка я быт...  neg\n",
              "4  обновлять за какой то леший surf теперь не раб...  neg"
            ],
            "text/html": [
              "\n",
              "  <div id=\"df-0d2f32db-074e-4a02-ad3a-e43ccd45b225\">\n",
              "    <div class=\"colab-df-container\">\n",
              "      <div>\n",
              "<style scoped>\n",
              "    .dataframe tbody tr th:only-of-type {\n",
              "        vertical-align: middle;\n",
              "    }\n",
              "\n",
              "    .dataframe tbody tr th {\n",
              "        vertical-align: top;\n",
              "    }\n",
              "\n",
              "    .dataframe thead th {\n",
              "        text-align: right;\n",
              "    }\n",
              "</style>\n",
              "<table border=\"1\" class=\"dataframe\">\n",
              "  <thead>\n",
              "    <tr style=\"text-align: right;\">\n",
              "      <th></th>\n",
              "      <th>text</th>\n",
              "      <th>sent</th>\n",
              "    </tr>\n",
              "  </thead>\n",
              "  <tbody>\n",
              "    <tr>\n",
              "      <th>0</th>\n",
              "      <td>на работа быть полный пиддеса :| и так каждый ...</td>\n",
              "      <td>neg</td>\n",
              "    </tr>\n",
              "    <tr>\n",
              "      <th>1</th>\n",
              "      <td>коллега сидеть рубиться в Urban terror а я из ...</td>\n",
              "      <td>neg</td>\n",
              "    </tr>\n",
              "    <tr>\n",
              "      <th>2</th>\n",
              "      <td>elina_ post как говорить обещаной три год ждат...</td>\n",
              "      <td>neg</td>\n",
              "    </tr>\n",
              "    <tr>\n",
              "      <th>3</th>\n",
              "      <td>желать хороший пол тот и удачный посадка я быт...</td>\n",
              "      <td>neg</td>\n",
              "    </tr>\n",
              "    <tr>\n",
              "      <th>4</th>\n",
              "      <td>обновлять за какой то леший surf теперь не раб...</td>\n",
              "      <td>neg</td>\n",
              "    </tr>\n",
              "  </tbody>\n",
              "</table>\n",
              "</div>\n",
              "      <button class=\"colab-df-convert\" onclick=\"convertToInteractive('df-0d2f32db-074e-4a02-ad3a-e43ccd45b225')\"\n",
              "              title=\"Convert this dataframe to an interactive table.\"\n",
              "              style=\"display:none;\">\n",
              "        \n",
              "  <svg xmlns=\"http://www.w3.org/2000/svg\" height=\"24px\"viewBox=\"0 0 24 24\"\n",
              "       width=\"24px\">\n",
              "    <path d=\"M0 0h24v24H0V0z\" fill=\"none\"/>\n",
              "    <path d=\"M18.56 5.44l.94 2.06.94-2.06 2.06-.94-2.06-.94-.94-2.06-.94 2.06-2.06.94zm-11 1L8.5 8.5l.94-2.06 2.06-.94-2.06-.94L8.5 2.5l-.94 2.06-2.06.94zm10 10l.94 2.06.94-2.06 2.06-.94-2.06-.94-.94-2.06-.94 2.06-2.06.94z\"/><path d=\"M17.41 7.96l-1.37-1.37c-.4-.4-.92-.59-1.43-.59-.52 0-1.04.2-1.43.59L10.3 9.45l-7.72 7.72c-.78.78-.78 2.05 0 2.83L4 21.41c.39.39.9.59 1.41.59.51 0 1.02-.2 1.41-.59l7.78-7.78 2.81-2.81c.8-.78.8-2.07 0-2.86zM5.41 20L4 18.59l7.72-7.72 1.47 1.35L5.41 20z\"/>\n",
              "  </svg>\n",
              "      </button>\n",
              "      \n",
              "  <style>\n",
              "    .colab-df-container {\n",
              "      display:flex;\n",
              "      flex-wrap:wrap;\n",
              "      gap: 12px;\n",
              "    }\n",
              "\n",
              "    .colab-df-convert {\n",
              "      background-color: #E8F0FE;\n",
              "      border: none;\n",
              "      border-radius: 50%;\n",
              "      cursor: pointer;\n",
              "      display: none;\n",
              "      fill: #1967D2;\n",
              "      height: 32px;\n",
              "      padding: 0 0 0 0;\n",
              "      width: 32px;\n",
              "    }\n",
              "\n",
              "    .colab-df-convert:hover {\n",
              "      background-color: #E2EBFA;\n",
              "      box-shadow: 0px 1px 2px rgba(60, 64, 67, 0.3), 0px 1px 3px 1px rgba(60, 64, 67, 0.15);\n",
              "      fill: #174EA6;\n",
              "    }\n",
              "\n",
              "    [theme=dark] .colab-df-convert {\n",
              "      background-color: #3B4455;\n",
              "      fill: #D2E3FC;\n",
              "    }\n",
              "\n",
              "    [theme=dark] .colab-df-convert:hover {\n",
              "      background-color: #434B5C;\n",
              "      box-shadow: 0px 1px 3px 1px rgba(0, 0, 0, 0.15);\n",
              "      filter: drop-shadow(0px 1px 2px rgba(0, 0, 0, 0.3));\n",
              "      fill: #FFFFFF;\n",
              "    }\n",
              "  </style>\n",
              "\n",
              "      <script>\n",
              "        const buttonEl =\n",
              "          document.querySelector('#df-0d2f32db-074e-4a02-ad3a-e43ccd45b225 button.colab-df-convert');\n",
              "        buttonEl.style.display =\n",
              "          google.colab.kernel.accessAllowed ? 'block' : 'none';\n",
              "\n",
              "        async function convertToInteractive(key) {\n",
              "          const element = document.querySelector('#df-0d2f32db-074e-4a02-ad3a-e43ccd45b225');\n",
              "          const dataTable =\n",
              "            await google.colab.kernel.invokeFunction('convertToInteractive',\n",
              "                                                     [key], {});\n",
              "          if (!dataTable) return;\n",
              "\n",
              "          const docLinkHtml = 'Like what you see? Visit the ' +\n",
              "            '<a target=\"_blank\" href=https://colab.research.google.com/notebooks/data_table.ipynb>data table notebook</a>'\n",
              "            + ' to learn more about interactive tables.';\n",
              "          element.innerHTML = '';\n",
              "          dataTable['output_type'] = 'display_data';\n",
              "          await google.colab.output.renderOutput(dataTable, element);\n",
              "          const docLink = document.createElement('div');\n",
              "          docLink.innerHTML = docLinkHtml;\n",
              "          element.appendChild(docLink);\n",
              "        }\n",
              "      </script>\n",
              "    </div>\n",
              "  </div>\n",
              "  "
            ]
          },
          "metadata": {},
          "execution_count": 16
        }
      ],
      "source": [
        "df.head()"
      ]
    },
    {
      "cell_type": "code",
      "execution_count": 17,
      "metadata": {
        "id": "IwWFoxQCQOYx",
        "colab": {
          "base_uri": "https://localhost:8080/"
        },
        "outputId": "b441e6bd-497c-450f-b681-c7a91322b43a"
      },
      "outputs": [
        {
          "output_type": "execute_result",
          "data": {
            "text/plain": [
              "['на',\n",
              " 'работа',\n",
              " 'быть',\n",
              " 'полный',\n",
              " 'пиддеса',\n",
              " ':|',\n",
              " 'и',\n",
              " 'так',\n",
              " 'каждый',\n",
              " 'закрытие',\n",
              " 'месяц',\n",
              " 'я',\n",
              " 'же',\n",
              " 'свихиваться',\n",
              " 'так',\n",
              " 'D:']"
            ]
          },
          "metadata": {},
          "execution_count": 17
        }
      ],
      "source": [
        "texts = [df.text.iloc[i].split() for i in range(len(df))]\n",
        "texts[0]"
      ]
    },
    {
      "cell_type": "markdown",
      "source": [
        ""
      ],
      "metadata": {
        "id": "VKR7VAMXflbf"
      }
    },
    {
      "cell_type": "markdown",
      "metadata": {
        "id": "LTImqR_XQOYx"
      },
      "source": [
        "## Обучение модели в gensim\n",
        "\n",
        "texts[0]"
      ]
    },
    {
      "cell_type": "code",
      "execution_count": 18,
      "metadata": {
        "colab": {
          "base_uri": "https://localhost:8080/"
        },
        "id": "bdNkeFJ2QOYx",
        "outputId": "ddcd0952-1795-4012-ecf3-9732baceb915"
      },
      "outputs": [
        {
          "output_type": "stream",
          "name": "stdout",
          "text": [
            "CPU times: user 58.5 s, sys: 745 ms, total: 59.3 s\n",
            "Wall time: 36.7 s\n"
          ]
        }
      ],
      "source": [
        "%%time\n",
        "from gensim.models import Word2Vec\n",
        "model = Word2Vec(texts, size=300, window=5, min_count=5, workers=4)\n",
        "model.save(\"word2v.model\")"
      ]
    },
    {
      "cell_type": "markdown",
      "metadata": {
        "id": "Kml8mC05QOYy"
      },
      "source": [
        "Загружаем обученную модель (для скорости):"
      ]
    },
    {
      "cell_type": "code",
      "execution_count": 19,
      "metadata": {
        "id": "wXhwfK26QOYy"
      },
      "outputs": [],
      "source": [
        "from gensim.models import Word2Vec\n",
        "model = Word2Vec.load(\"word2v.model\") "
      ]
    },
    {
      "cell_type": "code",
      "execution_count": 20,
      "metadata": {
        "colab": {
          "base_uri": "https://localhost:8080/"
        },
        "id": "zq5xpQMlQOYy",
        "outputId": "1f6836e2-4c45-4ab8-8527-cf27e9cf1d9d"
      },
      "outputs": [
        {
          "output_type": "execute_result",
          "data": {
            "text/plain": [
              "[('шк', 0.8899931311607361),\n",
              " ('колледж', 0.7985997796058655),\n",
              " ('универ', 0.7864260673522949),\n",
              " ('больница', 0.7832923531532288),\n",
              " ('школа)', 0.7577189803123474),\n",
              " ('суббота', 0.7411348819732666),\n",
              " ('школа:D', 0.7339524030685425),\n",
              " ('среда', 0.7269269227981567),\n",
              " ('пятница', 0.7237058877944946),\n",
              " ('понедельник', 0.7217323780059814)]"
            ]
          },
          "metadata": {},
          "execution_count": 20
        }
      ],
      "source": [
        "model.most_similar(\"школа\")"
      ]
    },
    {
      "cell_type": "code",
      "execution_count": 21,
      "metadata": {
        "colab": {
          "base_uri": "https://localhost:8080/"
        },
        "id": "TpUx4zWGQOYy",
        "outputId": "6e8e6149-94eb-480f-d241-59b1dd73685e"
      },
      "outputs": [
        {
          "output_type": "execute_result",
          "data": {
            "text/plain": [
              "[('учеба', 0.7541493773460388),\n",
              " ('тренировка', 0.7216558456420898),\n",
              " ('обед', 0.7140464186668396),\n",
              " ('часы', 0.7106832265853882),\n",
              " ('опаздывать', 0.7035384178161621),\n",
              " ('работа(', 0.6746342182159424),\n",
              " ('выходной', 0.6684432029724121),\n",
              " ('диван', 0.6535015106201172),\n",
              " ('завтрак', 0.6493247151374817),\n",
              " ('отпуск', 0.6468566656112671)]"
            ]
          },
          "metadata": {},
          "execution_count": 21
        }
      ],
      "source": [
        "model.most_similar(\"работа\")"
      ]
    },
    {
      "cell_type": "code",
      "execution_count": 22,
      "metadata": {
        "colab": {
          "base_uri": "https://localhost:8080/"
        },
        "id": "SFOY4enuQOYy",
        "outputId": "05bce430-9830-48e1-f426-690e79435d6a"
      },
      "outputs": [
        {
          "output_type": "execute_result",
          "data": {
            "text/plain": [
              "[('перерыв', 0.8345819711685181),\n",
              " ('март', 0.8182767033576965),\n",
              " ('сентябрь', 0.8164975643157959),\n",
              " ('отдых', 0.8055911064147949),\n",
              " ('ноябрь', 0.8038889169692993),\n",
              " ('приход', 0.8038498759269714),\n",
              " ('каникулы)', 0.8002550601959229),\n",
              " ('чемодан', 0.799533486366272),\n",
              " ('поездка', 0.7906366586685181),\n",
              " ('июль', 0.7748254537582397)]"
            ]
          },
          "metadata": {},
          "execution_count": 22
        }
      ],
      "source": [
        "model.most_similar(\"отпуск\")"
      ]
    },
    {
      "cell_type": "code",
      "execution_count": 23,
      "metadata": {
        "colab": {
          "base_uri": "https://localhost:8080/"
        },
        "id": "zBQ71U3hQOYz",
        "outputId": "7eb5d51c-17a2-459b-b929-a69cf7ef4f09"
      },
      "outputs": [
        {
          "output_type": "execute_result",
          "data": {
            "text/plain": [
              "[('университет', 0.8787308931350708),\n",
              " ('поступление', 0.8571292757987976),\n",
              " ('конгениальность!!!', 0.8120712041854858),\n",
              " ('морозилка', 0.8104739189147949),\n",
              " ('иисус', 0.8095526695251465),\n",
              " ('джунгли', 0.8007984757423401),\n",
              " ('окошко', 0.792839527130127),\n",
              " ('топ', 0.7890946865081787),\n",
              " ('лазер', 0.7852151393890381),\n",
              " ('мисс', 0.7845122218132019)]"
            ]
          },
          "metadata": {},
          "execution_count": 23
        }
      ],
      "source": [
        "vec = (model['университет'] - model['студент'] + model['школьник'])/3\n",
        "model.wv.similar_by_vector(vec)"
      ]
    },
    {
      "cell_type": "code",
      "execution_count": 24,
      "metadata": {
        "colab": {
          "base_uri": "https://localhost:8080/"
        },
        "id": "eOIreCfrQOYz",
        "outputId": "d8bc3168-1df3-433b-e4c9-0a44351d2f93"
      },
      "outputs": [
        {
          "output_type": "execute_result",
          "data": {
            "text/plain": [
              "[('лето', 0.9486749172210693),\n",
              " ('весна', 0.8092203140258789),\n",
              " ('зима', 0.7321788668632507),\n",
              " ('каникулы', 0.7163928747177124),\n",
              " ('осень', 0.710502028465271),\n",
              " ('холод', 0.7037879228591919),\n",
              " ('праздник', 0.6610479354858398),\n",
              " ('выходной', 0.6591798663139343),\n",
              " ('дождь', 0.6550374627113342),\n",
              " ('снег', 0.6494283676147461)]"
            ]
          },
          "metadata": {},
          "execution_count": 24
        }
      ],
      "source": [
        "vec = (model['лето'] - model['жара'] + model['холод'])/3\n",
        "model.wv.similar_by_vector(vec)"
      ]
    },
    {
      "cell_type": "code",
      "execution_count": 25,
      "metadata": {
        "colab": {
          "base_uri": "https://localhost:8080/",
          "height": 35
        },
        "id": "OZaVVy1HQOYz",
        "outputId": "8cdc75f8-87ec-41c3-f877-eec77cbb89cd"
      },
      "outputs": [
        {
          "output_type": "execute_result",
          "data": {
            "text/plain": [
              "'лето'"
            ],
            "application/vnd.google.colaboratory.intrinsic+json": {
              "type": "string"
            }
          },
          "metadata": {},
          "execution_count": 25
        }
      ],
      "source": [
        "model.doesnt_match(\"выходные отдых лето работа\".split())"
      ]
    },
    {
      "cell_type": "code",
      "source": [
        "model.doesnt_match(\"ночь улица фонарь аптека\".split())"
      ],
      "metadata": {
        "colab": {
          "base_uri": "https://localhost:8080/",
          "height": 35
        },
        "id": "wfUg5_PChJQS",
        "outputId": "39f10d49-ffec-4b33-9c4a-0fcd2fca96f3"
      },
      "execution_count": 26,
      "outputs": [
        {
          "output_type": "execute_result",
          "data": {
            "text/plain": [
              "'ночь'"
            ],
            "application/vnd.google.colaboratory.intrinsic+json": {
              "type": "string"
            }
          },
          "metadata": {},
          "execution_count": 26
        }
      ]
    },
    {
      "cell_type": "markdown",
      "metadata": {
        "id": "_g1ypNwuQOYz"
      },
      "source": [
        "### Визуализация пространства слов "
      ]
    },
    {
      "cell_type": "code",
      "execution_count": 27,
      "metadata": {
        "scrolled": true,
        "colab": {
          "base_uri": "https://localhost:8080/"
        },
        "id": "jM6BXH7XQOY0",
        "outputId": "b17648a4-a48c-42d4-e671-1f45b54a26a0"
      },
      "outputs": [
        {
          "output_type": "stream",
          "name": "stdout",
          "text": [
            "['я', 'не', 'и', 'в', 'на', 'что', 'RT', 'а', 'http://t', 'быть', 'ты', 'с', 'как', 'то', 'у', 'это', ':(', 'так', ':', ')', '(', 'но', 'все', 'он', 'ну', 'по', 'мы', ':)', 'мой', 'за', 'весь', 'хотеть', 'такой', ':D', 'уже', 'этот', 'вот', 'же', 'только', 'день', 'да', 'кто', 'еще', 'сегодня', 'она', 'бы', 'когда', 'мочь', 'они', 'вы', 'к', 'очень', 'из', 'просто', 'нет', 'один', 'знать', 'какой', 'от', 'год', 'если', 'теперь', 'любить', 'человек', 'свой', 'co/', 'даже', 'о', 'надо', 'до', 'новый', 'завтра', 'тоже', 'там', 'вс', 'тот', 'вообще', '((', 'для', 'самый', 'хороший', 'себя', 'хорошо', 'сейчас', '))', 'почему', 'делать', 'который', 'думать', 'много', 'раз', 'понимать', 'сказать', '(((', 'блин', 'смотреть', 'без', 'время', 'спать', 'спасибо', 'или', 'тут', 'утро', ')))', 'говорить', 'идти', 'сидеть', 'со', 'пойти', 'давать', 'про', 'ничто', 'писать', 'сделать', 'всегда', 'можно', 'жизнь', 'друг', 'первый', 'скоро', 'сам', 'наш', 'где', 'мама', 'потом', 'школа', '!', 'час', 'т', 'ни', 'после', 'ещ', 'чтобы', 'опять', 'ночь', 'ждать', 'твой', 'настроение', 'становиться', 'чем', 'приходить', 'написать', 'пока', '/', 'никто', 'хотеться', 'последний', 'начинать', 'два', 'посмотреть', 'видеть', 'хоть', 'работа', 'любимый', 'добрый', 'болеть', 'находить', 'оставаться', 'забывать', 'ахах', 'каждый', 'купить', 'м', 'дело', 'во', 'другой', 'вечер', 'вчера', 'неделя', 'под', 'через', 'потому', 'нужно', 'дома', 'совсем', 'хотя', 'читать', 'нибудь', 'плохо', 'выходить', 'урок', 'ли', 'рано', 'голова', 'фильм', 'снег', 'ехать', 'нравиться', 'надеяться', 'никогда', 'ведь', 'жить', 'D', 'скучать', 'ходить', 'конечно', 'работать', 'нужный', 'тогда', 'жаль', 'дом', 'второй', ':((', 'ж', 'домой', 'телефон', 'пора', 'правда', 'равный', 'нга', 'решать', 'пара', 'приезжать', 'вроде', 'бля', 'мало', 'е', 'о_о', 'парень', '=(', 'таки', 'больше', 'сон', 'л', 'проходить', 'песня', 'улица', 'рука', '=)', 'уходить', 'ахи', 'слово', 'твиттер', 'новогодний', 'снова', 'его', 'вставать', 'точно', 'давно', 'увидеть', 'получаться', 'фотка', 'просыпаться', 'большой', 'уж', 'почти', '_', 'зачем', 'минута', 'играть', 'зима', 'место', 'помнить', 'девушка', 'куда', 'сразу', 'прямой', 'приходиться', 'gt', 'с:', 'кстати', '((((', 'чуть', 'получать', 'слушать', 'прощать', 'сильно', 'сколько', 'крутой', 'столько', 'ч', 'чувствовать', 'успевать', 'глаз', 'узнавать', 'подарок', 'оказываться', 'плохой', 'ваш', 'че', 'лента', 'б', 'должный', 'быстро', 'х', 'бояться', 'деньги', 'ненавидеть', 'выходной', 'наверное', 'взять', 'ибо', 'начинаться', 'смочь', 'сдавать', 'папа', 'конец', 'наконец', 'ладно', 'любовь', 'сходить', 'помогать', 'привет', 'класс', 'н', 'месяц', 'город', 'перед', 'lt', ':))', 'момент', 'при', 'стоять', 'собираться', 'маленький', 'рождение', 'русский', 'заканчиваться', 'щас', 'девочка', 'мир', 'нельзя', 'долго', 'ребенок', 'умирать', 'казаться', 'три', 'чувство', 'красивый', 'ой', 'вопрос', 'оно', 'целый', 'чтоб', 'музыка', 'нога', 'далеко', 'немного', 'об', 'отличный', 'россия', 'старый', 'милый', 'твит', 'серия', 'зато', 'эх', 'вспомнить', 'рад', 'экзамен', 'отвечать', 'есть', 'круто', 'бывать', 'жалко', 'уезжать', 'ребята', 'х)', 'иногда', 'интересно', 'история', 'блять', 'пол', 'гулять', 'норма', '))))', ':(((', 'поставлять', 'рассказывать', 'пить', 'поехать', 'плакать', 'слишком', 'пусть', 'фото', ':DD', ':|', 'учить', 'проблема', 'пиздец', 'счастие', 'игра', 'ложиться', 'уставать', 'подруга', 'поздравлять', 'именно', 'показывать', 'душа', 'убивать', 'главное', 'нормально', 'значит', 'ко', 'праздник', 'интересный', 'поэтому', 'может', 'каникулы', 'лето', 'й', 'вк', 'ужасный', 'машина', 'интернет', 'офигенный', 'учиться', 'погода', 'поход', 'спрашивать', 'зайти', 'уметь', 'проводить', 'сука', 'понравиться', 'полный', 'классный', 'ужасно', 'кот', 'нормальный', 'верить', 'родитель', 'пятница', 'приятно', 'лишь', 'прекрасный', 'группа', 'вместе', 'сей', 'часто', 'скучно', 'брат', 'тип', 'особенно', 'видео', 'боль', 'обидно', 'никак', 'подумать', 'ох', 'голос', 'магазин', 'ахахах', 'мысль', 'открывать', 'д', 'хватать', 'пытаться', 'новость', 'р', 'ага', '^_^', 'москва', 'следующий', 'боже', 'желание', 'представлять', 'рядом', 'встречать', 'кажется', 'подарить', ':)))', 'план', 'называть', 'всего', 'дорогой', 'понедельник', 'концерт', 'туда', 'заболевать', 'чай', 'обожать', 'бесить', ':с', 'назад', 'книга', 'их', 'реально', 'лицо', 'замечать', 'здесь', 'быть)', 'прочитывать', 'тема', 'сезон', 'приятный', 'заниматься', 'окно', 'сериал', 'будто', 'любой', 'попадать', 'никакой', 'amp', 'вромайдан', 'капец', 'искать', 'лежать', 'суббота', 'видимо']\n"
          ]
        }
      ],
      "source": [
        "top_words = []\n",
        "from nltk import FreqDist\n",
        "fd = FreqDist()\n",
        "for text in texts:\n",
        "    fd.update(text)\n",
        "for i in fd.most_common(500):\n",
        "    top_words.append(i[0])\n",
        "print(top_words)"
      ]
    },
    {
      "cell_type": "code",
      "execution_count": 28,
      "metadata": {
        "id": "kwwQ9duTQOY0"
      },
      "outputs": [],
      "source": [
        "top_words_vec = model[top_words]"
      ]
    },
    {
      "cell_type": "code",
      "execution_count": 29,
      "metadata": {
        "colab": {
          "base_uri": "https://localhost:8080/"
        },
        "id": "4TYJYDU_QOY0",
        "outputId": "39bf9a97-3017-4405-e1a0-a51e8a8bc81e"
      },
      "outputs": [
        {
          "output_type": "execute_result",
          "data": {
            "text/plain": [
              "(500, 300)"
            ]
          },
          "metadata": {},
          "execution_count": 29
        }
      ],
      "source": [
        "top_words_vec.shape"
      ]
    },
    {
      "cell_type": "code",
      "execution_count": 30,
      "metadata": {
        "id": "LkUWx-84QOY0"
      },
      "outputs": [],
      "source": [
        "from sklearn.manifold import TSNE\n",
        "tsne = TSNE(n_components=2, random_state=0)\n",
        "top_words_tsne = tsne.fit_transform(top_words_vec)"
      ]
    },
    {
      "cell_type": "code",
      "execution_count": 31,
      "metadata": {
        "id": "Ngr3XCWfQOY1",
        "outputId": "b76d5f84-e4e7-4464-8967-fc70680dd231",
        "colab": {
          "base_uri": "https://localhost:8080/",
          "height": 617
        }
      },
      "outputs": [
        {
          "output_type": "display_data",
          "data": {
            "application/javascript": [
              "\n",
              "(function(root) {\n",
              "  function now() {\n",
              "    return new Date();\n",
              "  }\n",
              "\n",
              "  var force = true;\n",
              "\n",
              "  if (typeof root._bokeh_onload_callbacks === \"undefined\" || force === true) {\n",
              "    root._bokeh_onload_callbacks = [];\n",
              "    root._bokeh_is_loading = undefined;\n",
              "  }\n",
              "\n",
              "  var JS_MIME_TYPE = 'application/javascript';\n",
              "  var HTML_MIME_TYPE = 'text/html';\n",
              "  var EXEC_MIME_TYPE = 'application/vnd.bokehjs_exec.v0+json';\n",
              "  var CLASS_NAME = 'output_bokeh rendered_html';\n",
              "\n",
              "  /**\n",
              "   * Render data to the DOM node\n",
              "   */\n",
              "  function render(props, node) {\n",
              "    var script = document.createElement(\"script\");\n",
              "    node.appendChild(script);\n",
              "  }\n",
              "\n",
              "  /**\n",
              "   * Handle when an output is cleared or removed\n",
              "   */\n",
              "  function handleClearOutput(event, handle) {\n",
              "    var cell = handle.cell;\n",
              "\n",
              "    var id = cell.output_area._bokeh_element_id;\n",
              "    var server_id = cell.output_area._bokeh_server_id;\n",
              "    // Clean up Bokeh references\n",
              "    if (id != null && id in Bokeh.index) {\n",
              "      Bokeh.index[id].model.document.clear();\n",
              "      delete Bokeh.index[id];\n",
              "    }\n",
              "\n",
              "    if (server_id !== undefined) {\n",
              "      // Clean up Bokeh references\n",
              "      var cmd = \"from bokeh.io.state import curstate; print(curstate().uuid_to_server['\" + server_id + \"'].get_sessions()[0].document.roots[0]._id)\";\n",
              "      cell.notebook.kernel.execute(cmd, {\n",
              "        iopub: {\n",
              "          output: function(msg) {\n",
              "            var id = msg.content.text.trim();\n",
              "            if (id in Bokeh.index) {\n",
              "              Bokeh.index[id].model.document.clear();\n",
              "              delete Bokeh.index[id];\n",
              "            }\n",
              "          }\n",
              "        }\n",
              "      });\n",
              "      // Destroy server and session\n",
              "      var cmd = \"import bokeh.io.notebook as ion; ion.destroy_server('\" + server_id + \"')\";\n",
              "      cell.notebook.kernel.execute(cmd);\n",
              "    }\n",
              "  }\n",
              "\n",
              "  /**\n",
              "   * Handle when a new output is added\n",
              "   */\n",
              "  function handleAddOutput(event, handle) {\n",
              "    var output_area = handle.output_area;\n",
              "    var output = handle.output;\n",
              "\n",
              "    // limit handleAddOutput to display_data with EXEC_MIME_TYPE content only\n",
              "    if ((output.output_type != \"display_data\") || (!Object.prototype.hasOwnProperty.call(output.data, EXEC_MIME_TYPE))) {\n",
              "      return\n",
              "    }\n",
              "\n",
              "    var toinsert = output_area.element.find(\".\" + CLASS_NAME.split(' ')[0]);\n",
              "\n",
              "    if (output.metadata[EXEC_MIME_TYPE][\"id\"] !== undefined) {\n",
              "      toinsert[toinsert.length - 1].firstChild.textContent = output.data[JS_MIME_TYPE];\n",
              "      // store reference to embed id on output_area\n",
              "      output_area._bokeh_element_id = output.metadata[EXEC_MIME_TYPE][\"id\"];\n",
              "    }\n",
              "    if (output.metadata[EXEC_MIME_TYPE][\"server_id\"] !== undefined) {\n",
              "      var bk_div = document.createElement(\"div\");\n",
              "      bk_div.innerHTML = output.data[HTML_MIME_TYPE];\n",
              "      var script_attrs = bk_div.children[0].attributes;\n",
              "      for (var i = 0; i < script_attrs.length; i++) {\n",
              "        toinsert[toinsert.length - 1].firstChild.setAttribute(script_attrs[i].name, script_attrs[i].value);\n",
              "        toinsert[toinsert.length - 1].firstChild.textContent = bk_div.children[0].textContent\n",
              "      }\n",
              "      // store reference to server id on output_area\n",
              "      output_area._bokeh_server_id = output.metadata[EXEC_MIME_TYPE][\"server_id\"];\n",
              "    }\n",
              "  }\n",
              "\n",
              "  function register_renderer(events, OutputArea) {\n",
              "\n",
              "    function append_mime(data, metadata, element) {\n",
              "      // create a DOM node to render to\n",
              "      var toinsert = this.create_output_subarea(\n",
              "        metadata,\n",
              "        CLASS_NAME,\n",
              "        EXEC_MIME_TYPE\n",
              "      );\n",
              "      this.keyboard_manager.register_events(toinsert);\n",
              "      // Render to node\n",
              "      var props = {data: data, metadata: metadata[EXEC_MIME_TYPE]};\n",
              "      render(props, toinsert[toinsert.length - 1]);\n",
              "      element.append(toinsert);\n",
              "      return toinsert\n",
              "    }\n",
              "\n",
              "    /* Handle when an output is cleared or removed */\n",
              "    events.on('clear_output.CodeCell', handleClearOutput);\n",
              "    events.on('delete.Cell', handleClearOutput);\n",
              "\n",
              "    /* Handle when a new output is added */\n",
              "    events.on('output_added.OutputArea', handleAddOutput);\n",
              "\n",
              "    /**\n",
              "     * Register the mime type and append_mime function with output_area\n",
              "     */\n",
              "    OutputArea.prototype.register_mime_type(EXEC_MIME_TYPE, append_mime, {\n",
              "      /* Is output safe? */\n",
              "      safe: true,\n",
              "      /* Index of renderer in `output_area.display_order` */\n",
              "      index: 0\n",
              "    });\n",
              "  }\n",
              "\n",
              "  // register the mime type if in Jupyter Notebook environment and previously unregistered\n",
              "  if (root.Jupyter !== undefined) {\n",
              "    var events = require('base/js/events');\n",
              "    var OutputArea = require('notebook/js/outputarea').OutputArea;\n",
              "\n",
              "    if (OutputArea.prototype.mime_types().indexOf(EXEC_MIME_TYPE) == -1) {\n",
              "      register_renderer(events, OutputArea);\n",
              "    }\n",
              "  }\n",
              "\n",
              "  \n",
              "  if (typeof (root._bokeh_timeout) === \"undefined\" || force === true) {\n",
              "    root._bokeh_timeout = Date.now() + 5000;\n",
              "    root._bokeh_failed_load = false;\n",
              "  }\n",
              "\n",
              "  var NB_LOAD_WARNING = {'data': {'text/html':\n",
              "     \"<div style='background-color: #fdd'>\\n\"+\n",
              "     \"<p>\\n\"+\n",
              "     \"BokehJS does not appear to have successfully loaded. If loading BokehJS from CDN, this \\n\"+\n",
              "     \"may be due to a slow or bad network connection. Possible fixes:\\n\"+\n",
              "     \"</p>\\n\"+\n",
              "     \"<ul>\\n\"+\n",
              "     \"<li>re-rerun `output_notebook()` to attempt to load from CDN again, or</li>\\n\"+\n",
              "     \"<li>use INLINE resources instead, as so:</li>\\n\"+\n",
              "     \"</ul>\\n\"+\n",
              "     \"<code>\\n\"+\n",
              "     \"from bokeh.resources import INLINE\\n\"+\n",
              "     \"output_notebook(resources=INLINE)\\n\"+\n",
              "     \"</code>\\n\"+\n",
              "     \"</div>\"}};\n",
              "\n",
              "  function display_loaded() {\n",
              "    var el = document.getElementById(null);\n",
              "    if (el != null) {\n",
              "      el.textContent = \"BokehJS is loading...\";\n",
              "    }\n",
              "    if (root.Bokeh !== undefined) {\n",
              "      if (el != null) {\n",
              "        el.textContent = \"BokehJS \" + root.Bokeh.version + \" successfully loaded.\";\n",
              "      }\n",
              "    } else if (Date.now() < root._bokeh_timeout) {\n",
              "      setTimeout(display_loaded, 100)\n",
              "    }\n",
              "  }\n",
              "\n",
              "\n",
              "  function run_callbacks() {\n",
              "    try {\n",
              "      root._bokeh_onload_callbacks.forEach(function(callback) {\n",
              "        if (callback != null)\n",
              "          callback();\n",
              "      });\n",
              "    } finally {\n",
              "      delete root._bokeh_onload_callbacks\n",
              "    }\n",
              "    console.debug(\"Bokeh: all callbacks have finished\");\n",
              "  }\n",
              "\n",
              "  function load_libs(css_urls, js_urls, callback) {\n",
              "    if (css_urls == null) css_urls = [];\n",
              "    if (js_urls == null) js_urls = [];\n",
              "\n",
              "    root._bokeh_onload_callbacks.push(callback);\n",
              "    if (root._bokeh_is_loading > 0) {\n",
              "      console.debug(\"Bokeh: BokehJS is being loaded, scheduling callback at\", now());\n",
              "      return null;\n",
              "    }\n",
              "    if (js_urls == null || js_urls.length === 0) {\n",
              "      run_callbacks();\n",
              "      return null;\n",
              "    }\n",
              "    console.debug(\"Bokeh: BokehJS not loaded, scheduling load and callback at\", now());\n",
              "    root._bokeh_is_loading = css_urls.length + js_urls.length;\n",
              "\n",
              "    function on_load() {\n",
              "      root._bokeh_is_loading--;\n",
              "      if (root._bokeh_is_loading === 0) {\n",
              "        console.debug(\"Bokeh: all BokehJS libraries/stylesheets loaded\");\n",
              "        run_callbacks()\n",
              "      }\n",
              "    }\n",
              "\n",
              "    function on_error(url) {\n",
              "      console.error(\"failed to load \" + url);\n",
              "    }\n",
              "\n",
              "    for (let i = 0; i < css_urls.length; i++) {\n",
              "      const url = css_urls[i];\n",
              "      const element = document.createElement(\"link\");\n",
              "      element.onload = on_load;\n",
              "      element.onerror = on_error.bind(null, url);\n",
              "      element.rel = \"stylesheet\";\n",
              "      element.type = \"text/css\";\n",
              "      element.href = url;\n",
              "      console.debug(\"Bokeh: injecting link tag for BokehJS stylesheet: \", url);\n",
              "      document.body.appendChild(element);\n",
              "    }\n",
              "\n",
              "    const hashes = {\"https://cdn.bokeh.org/bokeh/release/bokeh-2.3.3.min.js\": \"dM3QQsP+wXdHg42wTqW85BjZQdLNNIXqlPw/BgKoExPmTG7ZLML4EGqLMfqHT6ON\", \"https://cdn.bokeh.org/bokeh/release/bokeh-tables-2.3.3.min.js\": \"8x57I4YuIfu8XyZfFo0XVr2WAT8EK4rh/uDe3wF7YuW2FNUSNEpJbsPaB1nJ2fz2\", \"https://cdn.bokeh.org/bokeh/release/bokeh-widgets-2.3.3.min.js\": \"3QTqdz9LyAm2i0sG5XTePsHec3UHWwVsrOL68SYRoAXsafvfAyqtQ+h440+qIBhS\"};\n",
              "\n",
              "    for (let i = 0; i < js_urls.length; i++) {\n",
              "      const url = js_urls[i];\n",
              "      const element = document.createElement('script');\n",
              "      element.onload = on_load;\n",
              "      element.onerror = on_error.bind(null, url);\n",
              "      element.async = false;\n",
              "      element.src = url;\n",
              "      if (url in hashes) {\n",
              "        element.crossOrigin = \"anonymous\";\n",
              "        element.integrity = \"sha384-\" + hashes[url];\n",
              "      }\n",
              "      console.debug(\"Bokeh: injecting script tag for BokehJS library: \", url);\n",
              "      document.head.appendChild(element);\n",
              "    }\n",
              "  };\n",
              "\n",
              "  function inject_raw_css(css) {\n",
              "    const element = document.createElement(\"style\");\n",
              "    element.appendChild(document.createTextNode(css));\n",
              "    document.body.appendChild(element);\n",
              "  }\n",
              "\n",
              "  \n",
              "  var js_urls = [\"https://cdn.bokeh.org/bokeh/release/bokeh-2.3.3.min.js\", \"https://cdn.bokeh.org/bokeh/release/bokeh-widgets-2.3.3.min.js\", \"https://cdn.bokeh.org/bokeh/release/bokeh-tables-2.3.3.min.js\"];\n",
              "  var css_urls = [];\n",
              "  \n",
              "\n",
              "  var inline_js = [\n",
              "    function(Bokeh) {\n",
              "      Bokeh.set_log_level(\"info\");\n",
              "    },\n",
              "    function(Bokeh) {\n",
              "    \n",
              "    \n",
              "    }\n",
              "  ];\n",
              "\n",
              "  function run_inline_js() {\n",
              "    \n",
              "    if (root.Bokeh !== undefined || force === true) {\n",
              "      \n",
              "    for (var i = 0; i < inline_js.length; i++) {\n",
              "      inline_js[i].call(root, root.Bokeh);\n",
              "    }\n",
              "    } else if (Date.now() < root._bokeh_timeout) {\n",
              "      setTimeout(run_inline_js, 100);\n",
              "    } else if (!root._bokeh_failed_load) {\n",
              "      console.log(\"Bokeh: BokehJS failed to load within specified timeout.\");\n",
              "      root._bokeh_failed_load = true;\n",
              "    } else if (force !== true) {\n",
              "      var cell = $(document.getElementById(null)).parents('.cell').data().cell;\n",
              "      cell.output_area.append_execute_result(NB_LOAD_WARNING)\n",
              "    }\n",
              "\n",
              "  }\n",
              "\n",
              "  if (root._bokeh_is_loading === 0) {\n",
              "    console.debug(\"Bokeh: BokehJS loaded, going straight to plotting\");\n",
              "    run_inline_js();\n",
              "  } else {\n",
              "    load_libs(css_urls, js_urls, function() {\n",
              "      console.debug(\"Bokeh: BokehJS plotting callback run at\", now());\n",
              "      run_inline_js();\n",
              "    });\n",
              "  }\n",
              "}(window));"
            ],
            "application/vnd.bokehjs_load.v0+json": "\n(function(root) {\n  function now() {\n    return new Date();\n  }\n\n  var force = true;\n\n  if (typeof root._bokeh_onload_callbacks === \"undefined\" || force === true) {\n    root._bokeh_onload_callbacks = [];\n    root._bokeh_is_loading = undefined;\n  }\n\n  \n\n  \n  if (typeof (root._bokeh_timeout) === \"undefined\" || force === true) {\n    root._bokeh_timeout = Date.now() + 5000;\n    root._bokeh_failed_load = false;\n  }\n\n  var NB_LOAD_WARNING = {'data': {'text/html':\n     \"<div style='background-color: #fdd'>\\n\"+\n     \"<p>\\n\"+\n     \"BokehJS does not appear to have successfully loaded. If loading BokehJS from CDN, this \\n\"+\n     \"may be due to a slow or bad network connection. Possible fixes:\\n\"+\n     \"</p>\\n\"+\n     \"<ul>\\n\"+\n     \"<li>re-rerun `output_notebook()` to attempt to load from CDN again, or</li>\\n\"+\n     \"<li>use INLINE resources instead, as so:</li>\\n\"+\n     \"</ul>\\n\"+\n     \"<code>\\n\"+\n     \"from bokeh.resources import INLINE\\n\"+\n     \"output_notebook(resources=INLINE)\\n\"+\n     \"</code>\\n\"+\n     \"</div>\"}};\n\n  function display_loaded() {\n    var el = document.getElementById(null);\n    if (el != null) {\n      el.textContent = \"BokehJS is loading...\";\n    }\n    if (root.Bokeh !== undefined) {\n      if (el != null) {\n        el.textContent = \"BokehJS \" + root.Bokeh.version + \" successfully loaded.\";\n      }\n    } else if (Date.now() < root._bokeh_timeout) {\n      setTimeout(display_loaded, 100)\n    }\n  }\n\n\n  function run_callbacks() {\n    try {\n      root._bokeh_onload_callbacks.forEach(function(callback) {\n        if (callback != null)\n          callback();\n      });\n    } finally {\n      delete root._bokeh_onload_callbacks\n    }\n    console.debug(\"Bokeh: all callbacks have finished\");\n  }\n\n  function load_libs(css_urls, js_urls, callback) {\n    if (css_urls == null) css_urls = [];\n    if (js_urls == null) js_urls = [];\n\n    root._bokeh_onload_callbacks.push(callback);\n    if (root._bokeh_is_loading > 0) {\n      console.debug(\"Bokeh: BokehJS is being loaded, scheduling callback at\", now());\n      return null;\n    }\n    if (js_urls == null || js_urls.length === 0) {\n      run_callbacks();\n      return null;\n    }\n    console.debug(\"Bokeh: BokehJS not loaded, scheduling load and callback at\", now());\n    root._bokeh_is_loading = css_urls.length + js_urls.length;\n\n    function on_load() {\n      root._bokeh_is_loading--;\n      if (root._bokeh_is_loading === 0) {\n        console.debug(\"Bokeh: all BokehJS libraries/stylesheets loaded\");\n        run_callbacks()\n      }\n    }\n\n    function on_error(url) {\n      console.error(\"failed to load \" + url);\n    }\n\n    for (let i = 0; i < css_urls.length; i++) {\n      const url = css_urls[i];\n      const element = document.createElement(\"link\");\n      element.onload = on_load;\n      element.onerror = on_error.bind(null, url);\n      element.rel = \"stylesheet\";\n      element.type = \"text/css\";\n      element.href = url;\n      console.debug(\"Bokeh: injecting link tag for BokehJS stylesheet: \", url);\n      document.body.appendChild(element);\n    }\n\n    const hashes = {\"https://cdn.bokeh.org/bokeh/release/bokeh-2.3.3.min.js\": \"dM3QQsP+wXdHg42wTqW85BjZQdLNNIXqlPw/BgKoExPmTG7ZLML4EGqLMfqHT6ON\", \"https://cdn.bokeh.org/bokeh/release/bokeh-tables-2.3.3.min.js\": \"8x57I4YuIfu8XyZfFo0XVr2WAT8EK4rh/uDe3wF7YuW2FNUSNEpJbsPaB1nJ2fz2\", \"https://cdn.bokeh.org/bokeh/release/bokeh-widgets-2.3.3.min.js\": \"3QTqdz9LyAm2i0sG5XTePsHec3UHWwVsrOL68SYRoAXsafvfAyqtQ+h440+qIBhS\"};\n\n    for (let i = 0; i < js_urls.length; i++) {\n      const url = js_urls[i];\n      const element = document.createElement('script');\n      element.onload = on_load;\n      element.onerror = on_error.bind(null, url);\n      element.async = false;\n      element.src = url;\n      if (url in hashes) {\n        element.crossOrigin = \"anonymous\";\n        element.integrity = \"sha384-\" + hashes[url];\n      }\n      console.debug(\"Bokeh: injecting script tag for BokehJS library: \", url);\n      document.head.appendChild(element);\n    }\n  };\n\n  function inject_raw_css(css) {\n    const element = document.createElement(\"style\");\n    element.appendChild(document.createTextNode(css));\n    document.body.appendChild(element);\n  }\n\n  \n  var js_urls = [\"https://cdn.bokeh.org/bokeh/release/bokeh-2.3.3.min.js\", \"https://cdn.bokeh.org/bokeh/release/bokeh-widgets-2.3.3.min.js\", \"https://cdn.bokeh.org/bokeh/release/bokeh-tables-2.3.3.min.js\"];\n  var css_urls = [];\n  \n\n  var inline_js = [\n    function(Bokeh) {\n      Bokeh.set_log_level(\"info\");\n    },\n    function(Bokeh) {\n    \n    \n    }\n  ];\n\n  function run_inline_js() {\n    \n    if (root.Bokeh !== undefined || force === true) {\n      \n    for (var i = 0; i < inline_js.length; i++) {\n      inline_js[i].call(root, root.Bokeh);\n    }\n    } else if (Date.now() < root._bokeh_timeout) {\n      setTimeout(run_inline_js, 100);\n    } else if (!root._bokeh_failed_load) {\n      console.log(\"Bokeh: BokehJS failed to load within specified timeout.\");\n      root._bokeh_failed_load = true;\n    } else if (force !== true) {\n      var cell = $(document.getElementById(null)).parents('.cell').data().cell;\n      cell.output_area.append_execute_result(NB_LOAD_WARNING)\n    }\n\n  }\n\n  if (root._bokeh_is_loading === 0) {\n    console.debug(\"Bokeh: BokehJS loaded, going straight to plotting\");\n    run_inline_js();\n  } else {\n    load_libs(css_urls, js_urls, function() {\n      console.debug(\"Bokeh: BokehJS plotting callback run at\", now());\n      run_inline_js();\n    });\n  }\n}(window));"
          },
          "metadata": {}
        },
        {
          "output_type": "display_data",
          "data": {
            "text/html": [
              "\n",
              "\n",
              "\n",
              "\n",
              "\n",
              "\n",
              "  <div class=\"bk-root\" id=\"8d36091d-0cc7-49b2-9366-b452f85ec4cd\" data-root-id=\"1002\"></div>\n"
            ]
          },
          "metadata": {}
        },
        {
          "output_type": "display_data",
          "data": {
            "application/javascript": [
              "(function(root) {\n",
              "  function embed_document(root) {\n",
              "    \n",
              "  var docs_json = {\"346a0648-2035-47ad-84fe-432277fcdd69\":{\"defs\":[],\"roots\":{\"references\":[{\"attributes\":{\"below\":[{\"id\":\"1013\"}],\"center\":[{\"id\":\"1016\"},{\"id\":\"1020\"},{\"id\":\"1036\"}],\"left\":[{\"id\":\"1017\"}],\"renderers\":[{\"id\":\"1034\"}],\"title\":{\"id\":\"1003\"},\"toolbar\":{\"id\":\"1025\"},\"toolbar_location\":\"above\",\"x_range\":{\"id\":\"1005\"},\"x_scale\":{\"id\":\"1009\"},\"y_range\":{\"id\":\"1007\"},\"y_scale\":{\"id\":\"1011\"}},\"id\":\"1002\",\"subtype\":\"Figure\",\"type\":\"Plot\"},{\"attributes\":{\"active_multi\":null,\"tools\":[{\"id\":\"1021\"},{\"id\":\"1022\"},{\"id\":\"1023\"},{\"id\":\"1024\"}]},\"id\":\"1025\",\"type\":\"Toolbar\"},{\"attributes\":{},\"id\":\"1021\",\"type\":\"PanTool\"},{\"attributes\":{\"fill_color\":{\"value\":\"#1f77b4\"},\"line_color\":{\"value\":\"#1f77b4\"},\"size\":{\"value\":8},\"x\":{\"field\":\"x1\"},\"y\":{\"field\":\"x2\"}},\"id\":\"1032\",\"type\":\"Scatter\"},{\"attributes\":{},\"id\":\"1046\",\"type\":\"UnionRenderers\"},{\"attributes\":{},\"id\":\"1022\",\"type\":\"WheelZoomTool\"},{\"attributes\":{\"text\":\"word2vec T-SNE for most common words\"},\"id\":\"1003\",\"type\":\"Title\"},{\"attributes\":{},\"id\":\"1023\",\"type\":\"ResetTool\"},{\"attributes\":{\"source\":{\"id\":\"1030\"},\"text\":{\"field\":\"names\"},\"text_align\":{\"value\":\"center\"},\"text_color\":{\"value\":\"#555555\"},\"text_font_size\":{\"value\":\"8pt\"},\"x\":{\"field\":\"x1\"},\"y\":{\"field\":\"x2\"},\"y_offset\":{\"value\":6}},\"id\":\"1036\",\"type\":\"LabelSet\"},{\"attributes\":{},\"id\":\"1024\",\"type\":\"SaveTool\"},{\"attributes\":{},\"id\":\"1041\",\"type\":\"BasicTickFormatter\"},{\"attributes\":{},\"id\":\"1007\",\"type\":\"DataRange1d\"},{\"attributes\":{},\"id\":\"1045\",\"type\":\"Selection\"},{\"attributes\":{\"fill_alpha\":{\"value\":0.1},\"fill_color\":{\"value\":\"#1f77b4\"},\"line_alpha\":{\"value\":0.1},\"line_color\":{\"value\":\"#1f77b4\"},\"size\":{\"value\":8},\"x\":{\"field\":\"x1\"},\"y\":{\"field\":\"x2\"}},\"id\":\"1033\",\"type\":\"Scatter\"},{\"attributes\":{},\"id\":\"1009\",\"type\":\"LinearScale\"},{\"attributes\":{},\"id\":\"1005\",\"type\":\"DataRange1d\"},{\"attributes\":{\"data\":{\"names\":[\"\\u044f\",\"\\u043d\\u0435\",\"\\u0438\",\"\\u0432\",\"\\u043d\\u0430\",\"\\u0447\\u0442\\u043e\",\"RT\",\"\\u0430\",\"http://t\",\"\\u0431\\u044b\\u0442\\u044c\",\"\\u0442\\u044b\",\"\\u0441\",\"\\u043a\\u0430\\u043a\",\"\\u0442\\u043e\",\"\\u0443\",\"\\u044d\\u0442\\u043e\",\":(\",\"\\u0442\\u0430\\u043a\",\":\",\")\",\"(\",\"\\u043d\\u043e\",\"\\u0432\\u0441\\u0435\",\"\\u043e\\u043d\",\"\\u043d\\u0443\",\"\\u043f\\u043e\",\"\\u043c\\u044b\",\":)\",\"\\u043c\\u043e\\u0439\",\"\\u0437\\u0430\",\"\\u0432\\u0435\\u0441\\u044c\",\"\\u0445\\u043e\\u0442\\u0435\\u0442\\u044c\",\"\\u0442\\u0430\\u043a\\u043e\\u0439\",\":D\",\"\\u0443\\u0436\\u0435\",\"\\u044d\\u0442\\u043e\\u0442\",\"\\u0432\\u043e\\u0442\",\"\\u0436\\u0435\",\"\\u0442\\u043e\\u043b\\u044c\\u043a\\u043e\",\"\\u0434\\u0435\\u043d\\u044c\",\"\\u0434\\u0430\",\"\\u043a\\u0442\\u043e\",\"\\u0435\\u0449\\u0435\",\"\\u0441\\u0435\\u0433\\u043e\\u0434\\u043d\\u044f\",\"\\u043e\\u043d\\u0430\",\"\\u0431\\u044b\",\"\\u043a\\u043e\\u0433\\u0434\\u0430\",\"\\u043c\\u043e\\u0447\\u044c\",\"\\u043e\\u043d\\u0438\",\"\\u0432\\u044b\",\"\\u043a\",\"\\u043e\\u0447\\u0435\\u043d\\u044c\",\"\\u0438\\u0437\",\"\\u043f\\u0440\\u043e\\u0441\\u0442\\u043e\",\"\\u043d\\u0435\\u0442\",\"\\u043e\\u0434\\u0438\\u043d\",\"\\u0437\\u043d\\u0430\\u0442\\u044c\",\"\\u043a\\u0430\\u043a\\u043e\\u0439\",\"\\u043e\\u0442\",\"\\u0433\\u043e\\u0434\",\"\\u0435\\u0441\\u043b\\u0438\",\"\\u0442\\u0435\\u043f\\u0435\\u0440\\u044c\",\"\\u043b\\u044e\\u0431\\u0438\\u0442\\u044c\",\"\\u0447\\u0435\\u043b\\u043e\\u0432\\u0435\\u043a\",\"\\u0441\\u0432\\u043e\\u0439\",\"co/\",\"\\u0434\\u0430\\u0436\\u0435\",\"\\u043e\",\"\\u043d\\u0430\\u0434\\u043e\",\"\\u0434\\u043e\",\"\\u043d\\u043e\\u0432\\u044b\\u0439\",\"\\u0437\\u0430\\u0432\\u0442\\u0440\\u0430\",\"\\u0442\\u043e\\u0436\\u0435\",\"\\u0442\\u0430\\u043c\",\"\\u0432\\u0441\",\"\\u0442\\u043e\\u0442\",\"\\u0432\\u043e\\u043e\\u0431\\u0449\\u0435\",\"((\",\"\\u0434\\u043b\\u044f\",\"\\u0441\\u0430\\u043c\\u044b\\u0439\",\"\\u0445\\u043e\\u0440\\u043e\\u0448\\u0438\\u0439\",\"\\u0441\\u0435\\u0431\\u044f\",\"\\u0445\\u043e\\u0440\\u043e\\u0448\\u043e\",\"\\u0441\\u0435\\u0439\\u0447\\u0430\\u0441\",\"))\",\"\\u043f\\u043e\\u0447\\u0435\\u043c\\u0443\",\"\\u0434\\u0435\\u043b\\u0430\\u0442\\u044c\",\"\\u043a\\u043e\\u0442\\u043e\\u0440\\u044b\\u0439\",\"\\u0434\\u0443\\u043c\\u0430\\u0442\\u044c\",\"\\u043c\\u043d\\u043e\\u0433\\u043e\",\"\\u0440\\u0430\\u0437\",\"\\u043f\\u043e\\u043d\\u0438\\u043c\\u0430\\u0442\\u044c\",\"\\u0441\\u043a\\u0430\\u0437\\u0430\\u0442\\u044c\",\"(((\",\"\\u0431\\u043b\\u0438\\u043d\",\"\\u0441\\u043c\\u043e\\u0442\\u0440\\u0435\\u0442\\u044c\",\"\\u0431\\u0435\\u0437\",\"\\u0432\\u0440\\u0435\\u043c\\u044f\",\"\\u0441\\u043f\\u0430\\u0442\\u044c\",\"\\u0441\\u043f\\u0430\\u0441\\u0438\\u0431\\u043e\",\"\\u0438\\u043b\\u0438\",\"\\u0442\\u0443\\u0442\",\"\\u0443\\u0442\\u0440\\u043e\",\")))\",\"\\u0433\\u043e\\u0432\\u043e\\u0440\\u0438\\u0442\\u044c\",\"\\u0438\\u0434\\u0442\\u0438\",\"\\u0441\\u0438\\u0434\\u0435\\u0442\\u044c\",\"\\u0441\\u043e\",\"\\u043f\\u043e\\u0439\\u0442\\u0438\",\"\\u0434\\u0430\\u0432\\u0430\\u0442\\u044c\",\"\\u043f\\u0440\\u043e\",\"\\u043d\\u0438\\u0447\\u0442\\u043e\",\"\\u043f\\u0438\\u0441\\u0430\\u0442\\u044c\",\"\\u0441\\u0434\\u0435\\u043b\\u0430\\u0442\\u044c\",\"\\u0432\\u0441\\u0435\\u0433\\u0434\\u0430\",\"\\u043c\\u043e\\u0436\\u043d\\u043e\",\"\\u0436\\u0438\\u0437\\u043d\\u044c\",\"\\u0434\\u0440\\u0443\\u0433\",\"\\u043f\\u0435\\u0440\\u0432\\u044b\\u0439\",\"\\u0441\\u043a\\u043e\\u0440\\u043e\",\"\\u0441\\u0430\\u043c\",\"\\u043d\\u0430\\u0448\",\"\\u0433\\u0434\\u0435\",\"\\u043c\\u0430\\u043c\\u0430\",\"\\u043f\\u043e\\u0442\\u043e\\u043c\",\"\\u0448\\u043a\\u043e\\u043b\\u0430\",\"!\",\"\\u0447\\u0430\\u0441\",\"\\u0442\",\"\\u043d\\u0438\",\"\\u043f\\u043e\\u0441\\u043b\\u0435\",\"\\u0435\\u0449\",\"\\u0447\\u0442\\u043e\\u0431\\u044b\",\"\\u043e\\u043f\\u044f\\u0442\\u044c\",\"\\u043d\\u043e\\u0447\\u044c\",\"\\u0436\\u0434\\u0430\\u0442\\u044c\",\"\\u0442\\u0432\\u043e\\u0439\",\"\\u043d\\u0430\\u0441\\u0442\\u0440\\u043e\\u0435\\u043d\\u0438\\u0435\",\"\\u0441\\u0442\\u0430\\u043d\\u043e\\u0432\\u0438\\u0442\\u044c\\u0441\\u044f\",\"\\u0447\\u0435\\u043c\",\"\\u043f\\u0440\\u0438\\u0445\\u043e\\u0434\\u0438\\u0442\\u044c\",\"\\u043d\\u0430\\u043f\\u0438\\u0441\\u0430\\u0442\\u044c\",\"\\u043f\\u043e\\u043a\\u0430\",\"/\",\"\\u043d\\u0438\\u043a\\u0442\\u043e\",\"\\u0445\\u043e\\u0442\\u0435\\u0442\\u044c\\u0441\\u044f\",\"\\u043f\\u043e\\u0441\\u043b\\u0435\\u0434\\u043d\\u0438\\u0439\",\"\\u043d\\u0430\\u0447\\u0438\\u043d\\u0430\\u0442\\u044c\",\"\\u0434\\u0432\\u0430\",\"\\u043f\\u043e\\u0441\\u043c\\u043e\\u0442\\u0440\\u0435\\u0442\\u044c\",\"\\u0432\\u0438\\u0434\\u0435\\u0442\\u044c\",\"\\u0445\\u043e\\u0442\\u044c\",\"\\u0440\\u0430\\u0431\\u043e\\u0442\\u0430\",\"\\u043b\\u044e\\u0431\\u0438\\u043c\\u044b\\u0439\",\"\\u0434\\u043e\\u0431\\u0440\\u044b\\u0439\",\"\\u0431\\u043e\\u043b\\u0435\\u0442\\u044c\",\"\\u043d\\u0430\\u0445\\u043e\\u0434\\u0438\\u0442\\u044c\",\"\\u043e\\u0441\\u0442\\u0430\\u0432\\u0430\\u0442\\u044c\\u0441\\u044f\",\"\\u0437\\u0430\\u0431\\u044b\\u0432\\u0430\\u0442\\u044c\",\"\\u0430\\u0445\\u0430\\u0445\",\"\\u043a\\u0430\\u0436\\u0434\\u044b\\u0439\",\"\\u043a\\u0443\\u043f\\u0438\\u0442\\u044c\",\"\\u043c\",\"\\u0434\\u0435\\u043b\\u043e\",\"\\u0432\\u043e\",\"\\u0434\\u0440\\u0443\\u0433\\u043e\\u0439\",\"\\u0432\\u0435\\u0447\\u0435\\u0440\",\"\\u0432\\u0447\\u0435\\u0440\\u0430\",\"\\u043d\\u0435\\u0434\\u0435\\u043b\\u044f\",\"\\u043f\\u043e\\u0434\",\"\\u0447\\u0435\\u0440\\u0435\\u0437\",\"\\u043f\\u043e\\u0442\\u043e\\u043c\\u0443\",\"\\u043d\\u0443\\u0436\\u043d\\u043e\",\"\\u0434\\u043e\\u043c\\u0430\",\"\\u0441\\u043e\\u0432\\u0441\\u0435\\u043c\",\"\\u0445\\u043e\\u0442\\u044f\",\"\\u0447\\u0438\\u0442\\u0430\\u0442\\u044c\",\"\\u043d\\u0438\\u0431\\u0443\\u0434\\u044c\",\"\\u043f\\u043b\\u043e\\u0445\\u043e\",\"\\u0432\\u044b\\u0445\\u043e\\u0434\\u0438\\u0442\\u044c\",\"\\u0443\\u0440\\u043e\\u043a\",\"\\u043b\\u0438\",\"\\u0440\\u0430\\u043d\\u043e\",\"\\u0433\\u043e\\u043b\\u043e\\u0432\\u0430\",\"\\u0444\\u0438\\u043b\\u044c\\u043c\",\"\\u0441\\u043d\\u0435\\u0433\",\"\\u0435\\u0445\\u0430\\u0442\\u044c\",\"\\u043d\\u0440\\u0430\\u0432\\u0438\\u0442\\u044c\\u0441\\u044f\",\"\\u043d\\u0430\\u0434\\u0435\\u044f\\u0442\\u044c\\u0441\\u044f\",\"\\u043d\\u0438\\u043a\\u043e\\u0433\\u0434\\u0430\",\"\\u0432\\u0435\\u0434\\u044c\",\"\\u0436\\u0438\\u0442\\u044c\",\"D\",\"\\u0441\\u043a\\u0443\\u0447\\u0430\\u0442\\u044c\",\"\\u0445\\u043e\\u0434\\u0438\\u0442\\u044c\",\"\\u043a\\u043e\\u043d\\u0435\\u0447\\u043d\\u043e\",\"\\u0440\\u0430\\u0431\\u043e\\u0442\\u0430\\u0442\\u044c\",\"\\u043d\\u0443\\u0436\\u043d\\u044b\\u0439\",\"\\u0442\\u043e\\u0433\\u0434\\u0430\",\"\\u0436\\u0430\\u043b\\u044c\",\"\\u0434\\u043e\\u043c\",\"\\u0432\\u0442\\u043e\\u0440\\u043e\\u0439\",\":((\",\"\\u0436\",\"\\u0434\\u043e\\u043c\\u043e\\u0439\",\"\\u0442\\u0435\\u043b\\u0435\\u0444\\u043e\\u043d\",\"\\u043f\\u043e\\u0440\\u0430\",\"\\u043f\\u0440\\u0430\\u0432\\u0434\\u0430\",\"\\u0440\\u0430\\u0432\\u043d\\u044b\\u0439\",\"\\u043d\\u0433\\u0430\",\"\\u0440\\u0435\\u0448\\u0430\\u0442\\u044c\",\"\\u043f\\u0430\\u0440\\u0430\",\"\\u043f\\u0440\\u0438\\u0435\\u0437\\u0436\\u0430\\u0442\\u044c\",\"\\u0432\\u0440\\u043e\\u0434\\u0435\",\"\\u0431\\u043b\\u044f\",\"\\u043c\\u0430\\u043b\\u043e\",\"\\u0435\",\"\\u043e_\\u043e\",\"\\u043f\\u0430\\u0440\\u0435\\u043d\\u044c\",\"=(\",\"\\u0442\\u0430\\u043a\\u0438\",\"\\u0431\\u043e\\u043b\\u044c\\u0448\\u0435\",\"\\u0441\\u043e\\u043d\",\"\\u043b\",\"\\u043f\\u0440\\u043e\\u0445\\u043e\\u0434\\u0438\\u0442\\u044c\",\"\\u043f\\u0435\\u0441\\u043d\\u044f\",\"\\u0443\\u043b\\u0438\\u0446\\u0430\",\"\\u0440\\u0443\\u043a\\u0430\",\"=)\",\"\\u0443\\u0445\\u043e\\u0434\\u0438\\u0442\\u044c\",\"\\u0430\\u0445\\u0438\",\"\\u0441\\u043b\\u043e\\u0432\\u043e\",\"\\u0442\\u0432\\u0438\\u0442\\u0442\\u0435\\u0440\",\"\\u043d\\u043e\\u0432\\u043e\\u0433\\u043e\\u0434\\u043d\\u0438\\u0439\",\"\\u0441\\u043d\\u043e\\u0432\\u0430\",\"\\u0435\\u0433\\u043e\",\"\\u0432\\u0441\\u0442\\u0430\\u0432\\u0430\\u0442\\u044c\",\"\\u0442\\u043e\\u0447\\u043d\\u043e\",\"\\u0434\\u0430\\u0432\\u043d\\u043e\",\"\\u0443\\u0432\\u0438\\u0434\\u0435\\u0442\\u044c\",\"\\u043f\\u043e\\u043b\\u0443\\u0447\\u0430\\u0442\\u044c\\u0441\\u044f\",\"\\u0444\\u043e\\u0442\\u043a\\u0430\",\"\\u043f\\u0440\\u043e\\u0441\\u044b\\u043f\\u0430\\u0442\\u044c\\u0441\\u044f\",\"\\u0431\\u043e\\u043b\\u044c\\u0448\\u043e\\u0439\",\"\\u0443\\u0436\",\"\\u043f\\u043e\\u0447\\u0442\\u0438\",\"_\",\"\\u0437\\u0430\\u0447\\u0435\\u043c\",\"\\u043c\\u0438\\u043d\\u0443\\u0442\\u0430\",\"\\u0438\\u0433\\u0440\\u0430\\u0442\\u044c\",\"\\u0437\\u0438\\u043c\\u0430\",\"\\u043c\\u0435\\u0441\\u0442\\u043e\",\"\\u043f\\u043e\\u043c\\u043d\\u0438\\u0442\\u044c\",\"\\u0434\\u0435\\u0432\\u0443\\u0448\\u043a\\u0430\",\"\\u043a\\u0443\\u0434\\u0430\",\"\\u0441\\u0440\\u0430\\u0437\\u0443\",\"\\u043f\\u0440\\u044f\\u043c\\u043e\\u0439\",\"\\u043f\\u0440\\u0438\\u0445\\u043e\\u0434\\u0438\\u0442\\u044c\\u0441\\u044f\",\"gt\",\"\\u0441:\",\"\\u043a\\u0441\\u0442\\u0430\\u0442\\u0438\",\"((((\",\"\\u0447\\u0443\\u0442\\u044c\",\"\\u043f\\u043e\\u043b\\u0443\\u0447\\u0430\\u0442\\u044c\",\"\\u0441\\u043b\\u0443\\u0448\\u0430\\u0442\\u044c\",\"\\u043f\\u0440\\u043e\\u0449\\u0430\\u0442\\u044c\",\"\\u0441\\u0438\\u043b\\u044c\\u043d\\u043e\",\"\\u0441\\u043a\\u043e\\u043b\\u044c\\u043a\\u043e\",\"\\u043a\\u0440\\u0443\\u0442\\u043e\\u0439\",\"\\u0441\\u0442\\u043e\\u043b\\u044c\\u043a\\u043e\",\"\\u0447\",\"\\u0447\\u0443\\u0432\\u0441\\u0442\\u0432\\u043e\\u0432\\u0430\\u0442\\u044c\",\"\\u0443\\u0441\\u043f\\u0435\\u0432\\u0430\\u0442\\u044c\",\"\\u0433\\u043b\\u0430\\u0437\",\"\\u0443\\u0437\\u043d\\u0430\\u0432\\u0430\\u0442\\u044c\",\"\\u043f\\u043e\\u0434\\u0430\\u0440\\u043e\\u043a\",\"\\u043e\\u043a\\u0430\\u0437\\u044b\\u0432\\u0430\\u0442\\u044c\\u0441\\u044f\",\"\\u043f\\u043b\\u043e\\u0445\\u043e\\u0439\",\"\\u0432\\u0430\\u0448\",\"\\u0447\\u0435\",\"\\u043b\\u0435\\u043d\\u0442\\u0430\",\"\\u0431\",\"\\u0434\\u043e\\u043b\\u0436\\u043d\\u044b\\u0439\",\"\\u0431\\u044b\\u0441\\u0442\\u0440\\u043e\",\"\\u0445\",\"\\u0431\\u043e\\u044f\\u0442\\u044c\\u0441\\u044f\",\"\\u0434\\u0435\\u043d\\u044c\\u0433\\u0438\",\"\\u043d\\u0435\\u043d\\u0430\\u0432\\u0438\\u0434\\u0435\\u0442\\u044c\",\"\\u0432\\u044b\\u0445\\u043e\\u0434\\u043d\\u043e\\u0439\",\"\\u043d\\u0430\\u0432\\u0435\\u0440\\u043d\\u043e\\u0435\",\"\\u0432\\u0437\\u044f\\u0442\\u044c\",\"\\u0438\\u0431\\u043e\",\"\\u043d\\u0430\\u0447\\u0438\\u043d\\u0430\\u0442\\u044c\\u0441\\u044f\",\"\\u0441\\u043c\\u043e\\u0447\\u044c\",\"\\u0441\\u0434\\u0430\\u0432\\u0430\\u0442\\u044c\",\"\\u043f\\u0430\\u043f\\u0430\",\"\\u043a\\u043e\\u043d\\u0435\\u0446\",\"\\u043d\\u0430\\u043a\\u043e\\u043d\\u0435\\u0446\",\"\\u043b\\u0430\\u0434\\u043d\\u043e\",\"\\u043b\\u044e\\u0431\\u043e\\u0432\\u044c\",\"\\u0441\\u0445\\u043e\\u0434\\u0438\\u0442\\u044c\",\"\\u043f\\u043e\\u043c\\u043e\\u0433\\u0430\\u0442\\u044c\",\"\\u043f\\u0440\\u0438\\u0432\\u0435\\u0442\",\"\\u043a\\u043b\\u0430\\u0441\\u0441\",\"\\u043d\",\"\\u043c\\u0435\\u0441\\u044f\\u0446\",\"\\u0433\\u043e\\u0440\\u043e\\u0434\",\"\\u043f\\u0435\\u0440\\u0435\\u0434\",\"lt\",\":))\",\"\\u043c\\u043e\\u043c\\u0435\\u043d\\u0442\",\"\\u043f\\u0440\\u0438\",\"\\u0441\\u0442\\u043e\\u044f\\u0442\\u044c\",\"\\u0441\\u043e\\u0431\\u0438\\u0440\\u0430\\u0442\\u044c\\u0441\\u044f\",\"\\u043c\\u0430\\u043b\\u0435\\u043d\\u044c\\u043a\\u0438\\u0439\",\"\\u0440\\u043e\\u0436\\u0434\\u0435\\u043d\\u0438\\u0435\",\"\\u0440\\u0443\\u0441\\u0441\\u043a\\u0438\\u0439\",\"\\u0437\\u0430\\u043a\\u0430\\u043d\\u0447\\u0438\\u0432\\u0430\\u0442\\u044c\\u0441\\u044f\",\"\\u0449\\u0430\\u0441\",\"\\u0434\\u0435\\u0432\\u043e\\u0447\\u043a\\u0430\",\"\\u043c\\u0438\\u0440\",\"\\u043d\\u0435\\u043b\\u044c\\u0437\\u044f\",\"\\u0434\\u043e\\u043b\\u0433\\u043e\",\"\\u0440\\u0435\\u0431\\u0435\\u043d\\u043e\\u043a\",\"\\u0443\\u043c\\u0438\\u0440\\u0430\\u0442\\u044c\",\"\\u043a\\u0430\\u0437\\u0430\\u0442\\u044c\\u0441\\u044f\",\"\\u0442\\u0440\\u0438\",\"\\u0447\\u0443\\u0432\\u0441\\u0442\\u0432\\u043e\",\"\\u043a\\u0440\\u0430\\u0441\\u0438\\u0432\\u044b\\u0439\",\"\\u043e\\u0439\",\"\\u0432\\u043e\\u043f\\u0440\\u043e\\u0441\",\"\\u043e\\u043d\\u043e\",\"\\u0446\\u0435\\u043b\\u044b\\u0439\",\"\\u0447\\u0442\\u043e\\u0431\",\"\\u043c\\u0443\\u0437\\u044b\\u043a\\u0430\",\"\\u043d\\u043e\\u0433\\u0430\",\"\\u0434\\u0430\\u043b\\u0435\\u043a\\u043e\",\"\\u043d\\u0435\\u043c\\u043d\\u043e\\u0433\\u043e\",\"\\u043e\\u0431\",\"\\u043e\\u0442\\u043b\\u0438\\u0447\\u043d\\u044b\\u0439\",\"\\u0440\\u043e\\u0441\\u0441\\u0438\\u044f\",\"\\u0441\\u0442\\u0430\\u0440\\u044b\\u0439\",\"\\u043c\\u0438\\u043b\\u044b\\u0439\",\"\\u0442\\u0432\\u0438\\u0442\",\"\\u0441\\u0435\\u0440\\u0438\\u044f\",\"\\u0437\\u0430\\u0442\\u043e\",\"\\u044d\\u0445\",\"\\u0432\\u0441\\u043f\\u043e\\u043c\\u043d\\u0438\\u0442\\u044c\",\"\\u0440\\u0430\\u0434\",\"\\u044d\\u043a\\u0437\\u0430\\u043c\\u0435\\u043d\",\"\\u043e\\u0442\\u0432\\u0435\\u0447\\u0430\\u0442\\u044c\",\"\\u0435\\u0441\\u0442\\u044c\",\"\\u043a\\u0440\\u0443\\u0442\\u043e\",\"\\u0431\\u044b\\u0432\\u0430\\u0442\\u044c\",\"\\u0436\\u0430\\u043b\\u043a\\u043e\",\"\\u0443\\u0435\\u0437\\u0436\\u0430\\u0442\\u044c\",\"\\u0440\\u0435\\u0431\\u044f\\u0442\\u0430\",\"\\u0445)\",\"\\u0438\\u043d\\u043e\\u0433\\u0434\\u0430\",\"\\u0438\\u043d\\u0442\\u0435\\u0440\\u0435\\u0441\\u043d\\u043e\",\"\\u0438\\u0441\\u0442\\u043e\\u0440\\u0438\\u044f\",\"\\u0431\\u043b\\u044f\\u0442\\u044c\",\"\\u043f\\u043e\\u043b\",\"\\u0433\\u0443\\u043b\\u044f\\u0442\\u044c\",\"\\u043d\\u043e\\u0440\\u043c\\u0430\",\"))))\",\":(((\",\"\\u043f\\u043e\\u0441\\u0442\\u0430\\u0432\\u043b\\u044f\\u0442\\u044c\",\"\\u0440\\u0430\\u0441\\u0441\\u043a\\u0430\\u0437\\u044b\\u0432\\u0430\\u0442\\u044c\",\"\\u043f\\u0438\\u0442\\u044c\",\"\\u043f\\u043e\\u0435\\u0445\\u0430\\u0442\\u044c\",\"\\u043f\\u043b\\u0430\\u043a\\u0430\\u0442\\u044c\",\"\\u0441\\u043b\\u0438\\u0448\\u043a\\u043e\\u043c\",\"\\u043f\\u0443\\u0441\\u0442\\u044c\",\"\\u0444\\u043e\\u0442\\u043e\",\":DD\",\":|\",\"\\u0443\\u0447\\u0438\\u0442\\u044c\",\"\\u043f\\u0440\\u043e\\u0431\\u043b\\u0435\\u043c\\u0430\",\"\\u043f\\u0438\\u0437\\u0434\\u0435\\u0446\",\"\\u0441\\u0447\\u0430\\u0441\\u0442\\u0438\\u0435\",\"\\u0438\\u0433\\u0440\\u0430\",\"\\u043b\\u043e\\u0436\\u0438\\u0442\\u044c\\u0441\\u044f\",\"\\u0443\\u0441\\u0442\\u0430\\u0432\\u0430\\u0442\\u044c\",\"\\u043f\\u043e\\u0434\\u0440\\u0443\\u0433\\u0430\",\"\\u043f\\u043e\\u0437\\u0434\\u0440\\u0430\\u0432\\u043b\\u044f\\u0442\\u044c\",\"\\u0438\\u043c\\u0435\\u043d\\u043d\\u043e\",\"\\u043f\\u043e\\u043a\\u0430\\u0437\\u044b\\u0432\\u0430\\u0442\\u044c\",\"\\u0434\\u0443\\u0448\\u0430\",\"\\u0443\\u0431\\u0438\\u0432\\u0430\\u0442\\u044c\",\"\\u0433\\u043b\\u0430\\u0432\\u043d\\u043e\\u0435\",\"\\u043d\\u043e\\u0440\\u043c\\u0430\\u043b\\u044c\\u043d\\u043e\",\"\\u0437\\u043d\\u0430\\u0447\\u0438\\u0442\",\"\\u043a\\u043e\",\"\\u043f\\u0440\\u0430\\u0437\\u0434\\u043d\\u0438\\u043a\",\"\\u0438\\u043d\\u0442\\u0435\\u0440\\u0435\\u0441\\u043d\\u044b\\u0439\",\"\\u043f\\u043e\\u044d\\u0442\\u043e\\u043c\\u0443\",\"\\u043c\\u043e\\u0436\\u0435\\u0442\",\"\\u043a\\u0430\\u043d\\u0438\\u043a\\u0443\\u043b\\u044b\",\"\\u043b\\u0435\\u0442\\u043e\",\"\\u0439\",\"\\u0432\\u043a\",\"\\u0443\\u0436\\u0430\\u0441\\u043d\\u044b\\u0439\",\"\\u043c\\u0430\\u0448\\u0438\\u043d\\u0430\",\"\\u0438\\u043d\\u0442\\u0435\\u0440\\u043d\\u0435\\u0442\",\"\\u043e\\u0444\\u0438\\u0433\\u0435\\u043d\\u043d\\u044b\\u0439\",\"\\u0443\\u0447\\u0438\\u0442\\u044c\\u0441\\u044f\",\"\\u043f\\u043e\\u0433\\u043e\\u0434\\u0430\",\"\\u043f\\u043e\\u0445\\u043e\\u0434\",\"\\u0441\\u043f\\u0440\\u0430\\u0448\\u0438\\u0432\\u0430\\u0442\\u044c\",\"\\u0437\\u0430\\u0439\\u0442\\u0438\",\"\\u0443\\u043c\\u0435\\u0442\\u044c\",\"\\u043f\\u0440\\u043e\\u0432\\u043e\\u0434\\u0438\\u0442\\u044c\",\"\\u0441\\u0443\\u043a\\u0430\",\"\\u043f\\u043e\\u043d\\u0440\\u0430\\u0432\\u0438\\u0442\\u044c\\u0441\\u044f\",\"\\u043f\\u043e\\u043b\\u043d\\u044b\\u0439\",\"\\u043a\\u043b\\u0430\\u0441\\u0441\\u043d\\u044b\\u0439\",\"\\u0443\\u0436\\u0430\\u0441\\u043d\\u043e\",\"\\u043a\\u043e\\u0442\",\"\\u043d\\u043e\\u0440\\u043c\\u0430\\u043b\\u044c\\u043d\\u044b\\u0439\",\"\\u0432\\u0435\\u0440\\u0438\\u0442\\u044c\",\"\\u0440\\u043e\\u0434\\u0438\\u0442\\u0435\\u043b\\u044c\",\"\\u043f\\u044f\\u0442\\u043d\\u0438\\u0446\\u0430\",\"\\u043f\\u0440\\u0438\\u044f\\u0442\\u043d\\u043e\",\"\\u043b\\u0438\\u0448\\u044c\",\"\\u043f\\u0440\\u0435\\u043a\\u0440\\u0430\\u0441\\u043d\\u044b\\u0439\",\"\\u0433\\u0440\\u0443\\u043f\\u043f\\u0430\",\"\\u0432\\u043c\\u0435\\u0441\\u0442\\u0435\",\"\\u0441\\u0435\\u0439\",\"\\u0447\\u0430\\u0441\\u0442\\u043e\",\"\\u0441\\u043a\\u0443\\u0447\\u043d\\u043e\",\"\\u0431\\u0440\\u0430\\u0442\",\"\\u0442\\u0438\\u043f\",\"\\u043e\\u0441\\u043e\\u0431\\u0435\\u043d\\u043d\\u043e\",\"\\u0432\\u0438\\u0434\\u0435\\u043e\",\"\\u0431\\u043e\\u043b\\u044c\",\"\\u043e\\u0431\\u0438\\u0434\\u043d\\u043e\",\"\\u043d\\u0438\\u043a\\u0430\\u043a\",\"\\u043f\\u043e\\u0434\\u0443\\u043c\\u0430\\u0442\\u044c\",\"\\u043e\\u0445\",\"\\u0433\\u043e\\u043b\\u043e\\u0441\",\"\\u043c\\u0430\\u0433\\u0430\\u0437\\u0438\\u043d\",\"\\u0430\\u0445\\u0430\\u0445\\u0430\\u0445\",\"\\u043c\\u044b\\u0441\\u043b\\u044c\",\"\\u043e\\u0442\\u043a\\u0440\\u044b\\u0432\\u0430\\u0442\\u044c\",\"\\u0434\",\"\\u0445\\u0432\\u0430\\u0442\\u0430\\u0442\\u044c\",\"\\u043f\\u044b\\u0442\\u0430\\u0442\\u044c\\u0441\\u044f\",\"\\u043d\\u043e\\u0432\\u043e\\u0441\\u0442\\u044c\",\"\\u0440\",\"\\u0430\\u0433\\u0430\",\"^_^\",\"\\u043c\\u043e\\u0441\\u043a\\u0432\\u0430\",\"\\u0441\\u043b\\u0435\\u0434\\u0443\\u044e\\u0449\\u0438\\u0439\",\"\\u0431\\u043e\\u0436\\u0435\",\"\\u0436\\u0435\\u043b\\u0430\\u043d\\u0438\\u0435\",\"\\u043f\\u0440\\u0435\\u0434\\u0441\\u0442\\u0430\\u0432\\u043b\\u044f\\u0442\\u044c\",\"\\u0440\\u044f\\u0434\\u043e\\u043c\",\"\\u0432\\u0441\\u0442\\u0440\\u0435\\u0447\\u0430\\u0442\\u044c\",\"\\u043a\\u0430\\u0436\\u0435\\u0442\\u0441\\u044f\",\"\\u043f\\u043e\\u0434\\u0430\\u0440\\u0438\\u0442\\u044c\",\":)))\",\"\\u043f\\u043b\\u0430\\u043d\",\"\\u043d\\u0430\\u0437\\u044b\\u0432\\u0430\\u0442\\u044c\",\"\\u0432\\u0441\\u0435\\u0433\\u043e\",\"\\u0434\\u043e\\u0440\\u043e\\u0433\\u043e\\u0439\",\"\\u043f\\u043e\\u043d\\u0435\\u0434\\u0435\\u043b\\u044c\\u043d\\u0438\\u043a\",\"\\u043a\\u043e\\u043d\\u0446\\u0435\\u0440\\u0442\",\"\\u0442\\u0443\\u0434\\u0430\",\"\\u0437\\u0430\\u0431\\u043e\\u043b\\u0435\\u0432\\u0430\\u0442\\u044c\",\"\\u0447\\u0430\\u0439\",\"\\u043e\\u0431\\u043e\\u0436\\u0430\\u0442\\u044c\",\"\\u0431\\u0435\\u0441\\u0438\\u0442\\u044c\",\":\\u0441\",\"\\u043d\\u0430\\u0437\\u0430\\u0434\",\"\\u043a\\u043d\\u0438\\u0433\\u0430\",\"\\u0438\\u0445\",\"\\u0440\\u0435\\u0430\\u043b\\u044c\\u043d\\u043e\",\"\\u043b\\u0438\\u0446\\u043e\",\"\\u0437\\u0430\\u043c\\u0435\\u0447\\u0430\\u0442\\u044c\",\"\\u0437\\u0434\\u0435\\u0441\\u044c\",\"\\u0431\\u044b\\u0442\\u044c)\",\"\\u043f\\u0440\\u043e\\u0447\\u0438\\u0442\\u044b\\u0432\\u0430\\u0442\\u044c\",\"\\u0442\\u0435\\u043c\\u0430\",\"\\u0441\\u0435\\u0437\\u043e\\u043d\",\"\\u043f\\u0440\\u0438\\u044f\\u0442\\u043d\\u044b\\u0439\",\"\\u0437\\u0430\\u043d\\u0438\\u043c\\u0430\\u0442\\u044c\\u0441\\u044f\",\"\\u043e\\u043a\\u043d\\u043e\",\"\\u0441\\u0435\\u0440\\u0438\\u0430\\u043b\",\"\\u0431\\u0443\\u0434\\u0442\\u043e\",\"\\u043b\\u044e\\u0431\\u043e\\u0439\",\"\\u043f\\u043e\\u043f\\u0430\\u0434\\u0430\\u0442\\u044c\",\"\\u043d\\u0438\\u043a\\u0430\\u043a\\u043e\\u0439\",\"amp\",\"\\u0432\\u0440\\u043e\\u043c\\u0430\\u0439\\u0434\\u0430\\u043d\",\"\\u043a\\u0430\\u043f\\u0435\\u0446\",\"\\u0438\\u0441\\u043a\\u0430\\u0442\\u044c\",\"\\u043b\\u0435\\u0436\\u0430\\u0442\\u044c\",\"\\u0441\\u0443\\u0431\\u0431\\u043e\\u0442\\u0430\",\"\\u0432\\u0438\\u0434\\u0438\\u043c\\u043e\"],\"x1\":{\"__ndarray__\":\"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\",\"dtype\":\"float32\",\"order\":\"little\",\"shape\":[500]},\"x2\":{\"__ndarray__\":\"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\",\"dtype\":\"float32\",\"order\":\"little\",\"shape\":[500]}},\"selected\":{\"id\":\"1045\"},\"selection_policy\":{\"id\":\"1046\"}},\"id\":\"1030\",\"type\":\"ColumnDataSource\"},{\"attributes\":{},\"id\":\"1011\",\"type\":\"LinearScale\"},{\"attributes\":{},\"id\":\"1044\",\"type\":\"BasicTickFormatter\"},{\"attributes\":{\"formatter\":{\"id\":\"1041\"},\"major_label_policy\":{\"id\":\"1039\"},\"ticker\":{\"id\":\"1014\"}},\"id\":\"1013\",\"type\":\"LinearAxis\"},{\"attributes\":{\"data_source\":{\"id\":\"1030\"},\"glyph\":{\"id\":\"1032\"},\"hover_glyph\":null,\"muted_glyph\":null,\"nonselection_glyph\":{\"id\":\"1033\"},\"view\":{\"id\":\"1035\"}},\"id\":\"1034\",\"type\":\"GlyphRenderer\"},{\"attributes\":{},\"id\":\"1018\",\"type\":\"BasicTicker\"},{\"attributes\":{},\"id\":\"1014\",\"type\":\"BasicTicker\"},{\"attributes\":{},\"id\":\"1042\",\"type\":\"AllLabels\"},{\"attributes\":{\"axis\":{\"id\":\"1013\"},\"ticker\":null},\"id\":\"1016\",\"type\":\"Grid\"},{\"attributes\":{},\"id\":\"1039\",\"type\":\"AllLabels\"},{\"attributes\":{\"source\":{\"id\":\"1030\"}},\"id\":\"1035\",\"type\":\"CDSView\"},{\"attributes\":{\"axis\":{\"id\":\"1017\"},\"dimension\":1,\"ticker\":null},\"id\":\"1020\",\"type\":\"Grid\"},{\"attributes\":{\"formatter\":{\"id\":\"1044\"},\"major_label_policy\":{\"id\":\"1042\"},\"ticker\":{\"id\":\"1018\"}},\"id\":\"1017\",\"type\":\"LinearAxis\"}],\"root_ids\":[\"1002\"]},\"title\":\"Bokeh Application\",\"version\":\"2.3.3\"}};\n",
              "  var render_items = [{\"docid\":\"346a0648-2035-47ad-84fe-432277fcdd69\",\"root_ids\":[\"1002\"],\"roots\":{\"1002\":\"8d36091d-0cc7-49b2-9366-b452f85ec4cd\"}}];\n",
              "  root.Bokeh.embed.embed_items_notebook(docs_json, render_items);\n",
              "\n",
              "  }\n",
              "  if (root.Bokeh !== undefined) {\n",
              "    embed_document(root);\n",
              "  } else {\n",
              "    var attempts = 0;\n",
              "    var timer = setInterval(function(root) {\n",
              "      if (root.Bokeh !== undefined) {\n",
              "        clearInterval(timer);\n",
              "        embed_document(root);\n",
              "      } else {\n",
              "        attempts++;\n",
              "        if (attempts > 100) {\n",
              "          clearInterval(timer);\n",
              "          console.log(\"Bokeh: ERROR: Unable to run BokehJS code because BokehJS library is missing\");\n",
              "        }\n",
              "      }\n",
              "    }, 10, root)\n",
              "  }\n",
              "})(window);"
            ],
            "application/vnd.bokehjs_exec.v0+json": ""
          },
          "metadata": {
            "application/vnd.bokehjs_exec.v0+json": {
              "id": "1002"
            }
          }
        }
      ],
      "source": [
        "from bokeh.models import ColumnDataSource, LabelSet\n",
        "from bokeh.plotting import figure, show, output_file\n",
        "from bokeh.io import output_notebook\n",
        "output_notebook()\n",
        "\n",
        "p = figure(tools=\"pan,wheel_zoom,reset,save\",\n",
        "           toolbar_location=\"above\",\n",
        "           title=\"word2vec T-SNE for most common words\")\n",
        "\n",
        "source = ColumnDataSource(data=dict(x1=top_words_tsne[:,0],\n",
        "                                    x2=top_words_tsne[:,1],\n",
        "                                    names=top_words))\n",
        "\n",
        "p.scatter(x=\"x1\", y=\"x2\", size=8, source=source)\n",
        "\n",
        "labels = LabelSet(x=\"x1\", y=\"x2\", text=\"names\", y_offset=6,\n",
        "                  text_font_size=\"8pt\", text_color=\"#555555\",\n",
        "                  source=source, text_align='center')\n",
        "p.add_layout(labels)\n",
        "\n",
        "show(p)"
      ]
    },
    {
      "cell_type": "markdown",
      "metadata": {
        "id": "oYJ8ACA2QOY1"
      },
      "source": [
        "### Кластеризация слов "
      ]
    },
    {
      "cell_type": "code",
      "execution_count": 32,
      "metadata": {
        "id": "DnFHlfajQOY1"
      },
      "outputs": [],
      "source": [
        "from sklearn.metrics.pairwise import cosine_similarity\n",
        "dist = 1 - cosine_similarity(top_words_vec)"
      ]
    },
    {
      "cell_type": "code",
      "execution_count": 33,
      "metadata": {
        "colab": {
          "base_uri": "https://localhost:8080/",
          "height": 1000
        },
        "id": "A_D44tsWQOY1",
        "outputId": "6cd79328-9b85-4338-e663-632a145a643e"
      },
      "outputs": [
        {
          "output_type": "display_data",
          "data": {
            "text/plain": [
              "<Figure size 720x7200 with 1 Axes>"
            ],
            "image/png": "[encoded data removed]"
          },
          "metadata": {
            "needs_background": "light"
          }
        }
      ],
      "source": [
        "from scipy.cluster.hierarchy import  ward, dendrogram\n",
        "\n",
        "linkage_matrix = ward(dist) \n",
        "\n",
        "fig, ax = plt.subplots(figsize=(10, 100)) \n",
        "ax = dendrogram(linkage_matrix, orientation=\"right\", labels=top_words);\n",
        "\n",
        "plt.tick_params(\\\n",
        "    axis= 'x',          # changes apply to the x-axis\n",
        "    which='both',      # both major and minor ticks are affected\n",
        "    bottom='off',      # ticks along the bottom edge are off\n",
        "    top='off',         # ticks along the top edge are off\n",
        "    labelbottom='off')\n",
        "\n",
        "plt.tight_layout() \n",
        "\n",
        "plt.savefig('w2v_cluster.png', dpi=200) #save figure as ward_clusters"
      ]
    },
    {
      "cell_type": "markdown",
      "metadata": {
        "id": "Lg_xVO2dQOY2"
      },
      "source": [
        "## Классификация текстов \n",
        "\n",
        "По мотивам http://nadbordrozd.github.io/blog/2016/05/20/text-classification-with-word2vec/"
      ]
    },
    {
      "cell_type": "code",
      "execution_count": 34,
      "metadata": {
        "colab": {
          "base_uri": "https://localhost:8080/"
        },
        "id": "acoi4rH0QOY2",
        "outputId": "f7b9cdd0-f88e-4bec-8d19-c0dbfa69f85f"
      },
      "outputs": [
        {
          "output_type": "stream",
          "name": "stdout",
          "text": [
            "total train examples 151978\n",
            "total test examples 74856\n"
          ]
        }
      ],
      "source": [
        "X = df.text.tolist()\n",
        "y = df.sent.tolist()\n",
        "\n",
        "X, y = np.array(X), np.array(y)\n",
        "\n",
        "X_train, X_test, y_train, y_test = train_test_split(X,y, test_size=0.33)\n",
        "print (\"total train examples %s\" % len(y_train))\n",
        "print (\"total test examples %s\" % len(y_test))"
      ]
    },
    {
      "cell_type": "markdown",
      "metadata": {
        "id": "OjmrwrxwQOY2"
      },
      "source": [
        "## Mean Vector"
      ]
    },
    {
      "cell_type": "code",
      "execution_count": 35,
      "metadata": {
        "id": "wa0bSzDWQOY2"
      },
      "outputs": [],
      "source": [
        "class MeanEmbeddingVectorizer(object):\n",
        "    def __init__(self, word2vec):\n",
        "        self.word2vec = word2vec\n",
        "        # if a text is empty we should return a vector of zeros\n",
        "        # with the same dimensionality as all the other vectors\n",
        "        self.dim = len(w2v.popitem()[1])\n",
        "\n",
        "    def fit(self, X, y):\n",
        "        return self\n",
        "\n",
        "    def transform(self, X):\n",
        "        return np.array([\n",
        "            np.mean([self.word2vec[w] for w in words if w in self.word2vec]\n",
        "                    or [np.zeros(self.dim)], axis=0)\n",
        "            for words in X\n",
        "        ])\n",
        "\n"
      ]
    },
    {
      "cell_type": "code",
      "execution_count": 36,
      "metadata": {
        "id": "u5rjpkfdQOY2"
      },
      "outputs": [],
      "source": [
        "w2v = dict(zip(model.wv.index2word, model.wv.syn0))"
      ]
    },
    {
      "cell_type": "code",
      "execution_count": 37,
      "metadata": {
        "id": "1MZUeCYhQOY3"
      },
      "outputs": [],
      "source": [
        "from sklearn.pipeline import Pipeline\n",
        "from sklearn.ensemble import RandomForestClassifier\n",
        "\n",
        "rfc_w2v = Pipeline([\n",
        "    (\"word2vec vectorizer\", MeanEmbeddingVectorizer(w2v)),\n",
        "    (\"extra trees\", RandomForestClassifier(n_estimators=20))])\n"
      ]
    },
    {
      "cell_type": "code",
      "execution_count": 38,
      "metadata": {
        "id": "9Yj2ILSTQOY3"
      },
      "outputs": [],
      "source": [
        "rfc_w2v.fit(X_train,y_train)\n",
        "pred = rfc_w2v.predict(X_test)"
      ]
    },
    {
      "cell_type": "code",
      "execution_count": 39,
      "metadata": {
        "colab": {
          "base_uri": "https://localhost:8080/"
        },
        "id": "ufwKvtLBQOY3",
        "outputId": "d6bb5c30-e088-4a3b-a83c-4dd3bf5afb94"
      },
      "outputs": [
        {
          "output_type": "stream",
          "name": "stdout",
          "text": [
            "Precision:   0.81\n",
            "Recall:   0.81\n",
            "F1-measure:   0.81\n",
            "Accuracy:   0.81\n",
            "              precision    recall  f1-score   support\n",
            "\n",
            "         neg       0.80      0.84      0.82     36800\n",
            "         pos       0.83      0.79      0.81     38056\n",
            "\n",
            "    accuracy                           0.81     74856\n",
            "   macro avg       0.81      0.81      0.81     74856\n",
            "weighted avg       0.81      0.81      0.81     74856\n",
            "\n"
          ]
        },
        {
          "output_type": "execute_result",
          "data": {
            "text/plain": [
              "<function sklearn.metrics._classification.classification_report>"
            ]
          },
          "metadata": {},
          "execution_count": 39
        }
      ],
      "source": [
        "print(\"Precision: {0:6.2f}\".format(precision_score(y_test, pred, average='macro')))\n",
        "print(\"Recall: {0:6.2f}\".format(recall_score(y_test, pred, average='macro')))\n",
        "print(\"F1-measure: {0:6.2f}\".format(f1_score(y_test, pred, average='macro')))\n",
        "print(\"Accuracy: {0:6.2f}\".format(accuracy_score(y_test, pred)))\n",
        "print(classification_report(y_test, pred))\n",
        "labels = rfc_w2v.classes_\n",
        "\n",
        "classification_report\n",
        "#sns.heatmap(data=confusion_matrix(y_test, pred), annot=True, fmt=\"d\", cbar=False, xticklabels=labels, yticklabels=labels)\n",
        "#plt.title(\"Confusion matrix\")\n",
        "#plt.show()"
      ]
    },
    {
      "cell_type": "markdown",
      "metadata": {
        "id": "kBDYaCKDQOY3"
      },
      "source": [
        "# Средний вектор с весами tf-idf\n"
      ]
    },
    {
      "cell_type": "code",
      "execution_count": 40,
      "metadata": {
        "id": "AA7CNLOvQOY3"
      },
      "outputs": [],
      "source": [
        "class TfidfEmbeddingVectorizer(object):\n",
        "    def __init__(self, word2vec):\n",
        "        self.word2vec = word2vec\n",
        "        self.word2weight = None\n",
        "        self.dim = len(w2v.popitem()[1])\n",
        "\n",
        "    def fit(self, X, y):\n",
        "        tfidf = TfidfVectorizer(analyzer=lambda x: x)\n",
        "        tfidf.fit(X)\n",
        "        max_idf = max(tfidf.idf_)\n",
        "        self.word2weight = defaultdict(\n",
        "            lambda: max_idf,\n",
        "            [(w, tfidf.idf_[i]) for w, i in tfidf.vocabulary_.items()])\n",
        "\n",
        "        return self\n",
        "\n",
        "    def transform(self, X):\n",
        "        return np.array([\n",
        "                np.mean([self.word2vec[w] * self.word2weight[w]\n",
        "                         for w in words if w in self.word2vec] or\n",
        "                        [np.zeros(self.dim)], axis=0)\n",
        "                for words in X\n",
        "            ])"
      ]
    },
    {
      "cell_type": "code",
      "execution_count": 41,
      "metadata": {
        "id": "LzW8cfgAQOY3"
      },
      "outputs": [],
      "source": [
        "from sklearn.pipeline import Pipeline\n",
        "from sklearn.ensemble import RandomForestClassifier\n",
        "\n",
        "rfc_w2v = Pipeline([\n",
        "    (\"word2vec vectorizer\", TfidfEmbeddingVectorizer(w2v)),\n",
        "    (\"extra trees\", RandomForestClassifier(n_estimators=20))])\n"
      ]
    },
    {
      "cell_type": "code",
      "execution_count": 42,
      "metadata": {
        "id": "I6ryq-mgQOY3"
      },
      "outputs": [],
      "source": [
        "rfc_w2v.fit(X_train,y_train)\n",
        "pred = rfc_w2v.predict(X_test)"
      ]
    },
    {
      "cell_type": "code",
      "execution_count": 43,
      "metadata": {
        "colab": {
          "base_uri": "https://localhost:8080/"
        },
        "id": "AED0u7HmQOY4",
        "outputId": "09429896-046b-478a-9372-a84ad90b3ca5"
      },
      "outputs": [
        {
          "output_type": "stream",
          "name": "stdout",
          "text": [
            "Precision:   0.86\n",
            "Recall:   0.86\n",
            "F1-measure:   0.86\n",
            "Accuracy:   0.86\n",
            "              precision    recall  f1-score   support\n",
            "\n",
            "         neg       0.84      0.88      0.86     36800\n",
            "         pos       0.88      0.84      0.86     38056\n",
            "\n",
            "    accuracy                           0.86     74856\n",
            "   macro avg       0.86      0.86      0.86     74856\n",
            "weighted avg       0.86      0.86      0.86     74856\n",
            "\n"
          ]
        },
        {
          "output_type": "execute_result",
          "data": {
            "text/plain": [
              "<function sklearn.metrics._classification.classification_report>"
            ]
          },
          "metadata": {},
          "execution_count": 43
        }
      ],
      "source": [
        "print(\"Precision: {0:6.2f}\".format(precision_score(y_test, pred, average='macro')))\n",
        "print(\"Recall: {0:6.2f}\".format(recall_score(y_test, pred, average='macro')))\n",
        "print(\"F1-measure: {0:6.2f}\".format(f1_score(y_test, pred, average='macro')))\n",
        "print(\"Accuracy: {0:6.2f}\".format(accuracy_score(y_test, pred)))\n",
        "print(classification_report(y_test, pred))\n",
        "labels = rfc_w2v.classes_\n",
        "\n",
        "classification_report\n",
        "#sns.heatmap(data=confusion_matrix(y_test, pred), annot=True, fmt=\"d\", cbar=False, xticklabels=labels, yticklabels=labels)\n",
        "#plt.title(\"Confusion matrix\")\n",
        "#plt.show()"
      ]
    },
    {
      "cell_type": "markdown",
      "metadata": {
        "id": "vDq3uCqzQOY4"
      },
      "source": [
        "# Бонусное задание\n",
        "\n",
        " 1) зайдите на сайт RusVectores и скачайте одну из предобученных моделей gensim: https://rusvectores.org/ru/models/ \n",
        " \n",
        "2) Проведите аналогичные эксперименты с использованием скачанных векторных представлений\n",
        "\n",
        "Как изменился результат?"
      ]
    },
    {
      "cell_type": "code",
      "execution_count": null,
      "metadata": {
        "id": "O923s_riQOY4"
      },
      "outputs": [],
      "source": [
        ""
      ]
    }
  ],
  "metadata": {
    "kernelspec": {
      "display_name": "Python 3",
      "language": "python",
      "name": "python3"
    },
    "language_info": {
      "codemirror_mode": {
        "name": "ipython",
        "version": 3
      },
      "file_extension": ".py",
      "mimetype": "text/x-python",
      "name": "python",
      "nbconvert_exporter": "python",
      "pygments_lexer": "ipython3",
      "version": "3.6.4"
    },
    "colab": {
      "name": "MLDS_practice_week7_25_05.ipynb",
      "provenance": []
    }
  },
  "nbformat": 4,
  "nbformat_minor": 0
}